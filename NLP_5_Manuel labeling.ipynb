{
 "cells": [
  {
   "cell_type": "code",
   "execution_count": 12,
   "metadata": {},
   "outputs": [],
   "source": [
    "#pip install openpyxl"
   ]
  },
  {
   "cell_type": "code",
   "execution_count": 1,
   "metadata": {},
   "outputs": [],
   "source": [
    "import pandas as pd\n",
    "import openpyxl"
   ]
  },
  {
   "cell_type": "code",
   "execution_count": 2,
   "metadata": {},
   "outputs": [],
   "source": [
    "# Read data/small_data_eda.zip\n",
    "df = pd.read_csv('data/small_data_eda.zip')\n",
    "# Get random 1000 samples from the data\n",
    "df_sample = df.sample(100, random_state=10).reset_index(drop=True)"
   ]
  },
  {
   "cell_type": "code",
   "execution_count": 3,
   "metadata": {},
   "outputs": [],
   "source": [
    "# Save in excel, create if not exist\n",
    "# 'narrative' in sheet 'narrative' and 'product' in sheet 'product'\n",
    "with pd.ExcelWriter('data/small_data_eda.xlsx') as writer:\n",
    "    df_sample['narrative'].to_excel(writer, sheet_name='narrative', index=False)\n",
    "    df_sample['product'].to_excel(writer, sheet_name='product', index=False)"
   ]
  },
  {
   "cell_type": "code",
   "execution_count": 4,
   "metadata": {},
   "outputs": [
    {
     "name": "stdout",
     "output_type": "stream",
     "text": [
      "['credit_reporting' 'credit_card' 'debt_collection' 'retail_banking'\n",
      " 'mortgages_and_loans']\n"
     ]
    }
   ],
   "source": [
    "# Show all products from df_sample\n",
    "print(df_sample['product'].unique())"
   ]
  },
  {
   "cell_type": "markdown",
   "metadata": {},
   "source": [
    "---"
   ]
  },
  {
   "cell_type": "markdown",
   "metadata": {},
   "source": [
    "The \"manual_label\" column was then added in Excel and we added the labels manually based on the narrative. The file was also renamed to \"manual_label.xlsx\""
   ]
  },
  {
   "cell_type": "code",
   "execution_count": 17,
   "metadata": {},
   "outputs": [],
   "source": [
    "# Read the excel file\n",
    "with pd.ExcelFile('data/manual_label.xlsx') as reader:\n",
    "    df_narrative = pd.read_excel(reader, sheet_name='narrative')\n",
    "    df_narrative = df_narrative[['narrative', 'manual_label']]\n",
    "    df_product = pd.read_excel(reader, sheet_name='product')\n",
    "    df_product = df_product['product']\n",
    "\n",
    "# Merge the two dataframes\n",
    "df_manual = pd.concat([df_narrative, df_product], axis=1)\n",
    "\n",
    "# Change values in 'manual_label'\n",
    "df_manual['manual_label'] = df_manual['manual_label'].map(\n",
    "    {'cc': 'credit_card', 'dc': 'debt_collection', 'rb': 'retail_banking', 'mal': 'mortgages_and_loans', 'cr': 'credit_reporting'})\n",
    "\n",
    "# Remove NaN values\n",
    "df_manual = df_manual.dropna()"
   ]
  },
  {
   "cell_type": "code",
   "execution_count": 18,
   "metadata": {},
   "outputs": [
    {
     "name": "stdout",
     "output_type": "stream",
     "text": [
      "                     precision    recall  f1-score   support\n",
      "\n",
      "        credit_card       0.63      0.75      0.69        16\n",
      "   credit_reporting       0.45      0.65      0.53        20\n",
      "    debt_collection       0.65      0.59      0.62        22\n",
      "mortgages_and_loans       0.86      0.55      0.67        22\n",
      "     retail_banking       0.56      0.50      0.53        20\n",
      "\n",
      "           accuracy                           0.60       100\n",
      "          macro avg       0.63      0.61      0.61       100\n",
      "       weighted avg       0.63      0.60      0.60       100\n",
      "\n"
     ]
    }
   ],
   "source": [
    "from sklearn.metrics import classification_report\n",
    "\n",
    "# Print classification report\n",
    "print(classification_report(df_manual['product'], df_manual['manual_label']))"
   ]
  },
  {
   "cell_type": "code",
   "execution_count": null,
   "metadata": {},
   "outputs": [],
   "source": []
  }
 ],
 "metadata": {
  "kernelspec": {
   "display_name": "nlp_env",
   "language": "python",
   "name": "python3"
  },
  "language_info": {
   "codemirror_mode": {
    "name": "ipython",
    "version": 3
   },
   "file_extension": ".py",
   "mimetype": "text/x-python",
   "name": "python",
   "nbconvert_exporter": "python",
   "pygments_lexer": "ipython3",
   "version": "3.12.0"
  }
 },
 "nbformat": 4,
 "nbformat_minor": 2
}
