{
 "cells": [
  {
   "cell_type": "markdown",
   "metadata": {},
   "source": [
    "# Natural Language Processing - Consumer Complaint in bank sector"
   ]
  },
  {
   "cell_type": "markdown",
   "metadata": {},
   "source": [
    "## Research question: \n",
    "\n",
    "* How to develop an automatic text classification model that assigns customer complaints to the correct product categories based on their content?\n",
    "\n",
    "Authors: Alam Jasia, Hubweber Michaela, Schumich Kathrin, Ye Florian\n",
    "\n",
    "Dataset: https://www.kaggle.com/datasets/shashwatwork/consume-complaints-dataset-fo-nlp"
   ]
  },
  {
   "cell_type": "code",
   "execution_count": 1,
   "metadata": {},
   "outputs": [
    {
     "name": "stderr",
     "output_type": "stream",
     "text": [
      "/Users/florianye/Library/CloudStorage/GoogleDrive-florianye99@gmail.com/My Drive/Files/FH Technikum/1 - Aktuell/NLP/nlp_env/lib/python3.12/site-packages/sentence_transformers/cross_encoder/CrossEncoder.py:13: TqdmWarning: IProgress not found. Please update jupyter and ipywidgets. See https://ipywidgets.readthedocs.io/en/stable/user_install.html\n",
      "  from tqdm.autonotebook import tqdm, trange\n"
     ]
    }
   ],
   "source": [
    "import pandas as pd\n",
    "import matplotlib.pyplot as plt\n",
    "import seaborn as sns\n",
    "from wordcloud import WordCloud\n",
    "import re\n",
    "from IPython.display import display\n",
    "import numpy as np\n",
    "from sklearn.feature_extraction.text import TfidfVectorizer\n",
    "import spacy\n",
    "from scipy import stats\n",
    "from textblob import TextBlob\n",
    "from spacy.cli import download\n",
    "from sklearn.preprocessing import LabelEncoder  # For encoding labels\n",
    "\n",
    "import os\n",
    "import numpy as np\n",
    "from sklearn.metrics.pairwise import cosine_similarity\n",
    "from gensim.models import KeyedVectors\n",
    "from sentence_transformers import SentenceTransformer\n",
    "import zipfile\n",
    "\n",
    "from gensim.models import Word2Vec\n",
    "from narrative_to_vec import tokenize_column, add_column_average_genre_vector\n",
    "\n",
    "# Ignore warnings\n",
    "import warnings\n",
    "warnings.filterwarnings('ignore')"
   ]
  },
  {
   "cell_type": "markdown",
   "metadata": {},
   "source": [
    "## 4 Testing different embedding techniques"
   ]
  },
  {
   "cell_type": "markdown",
   "metadata": {},
   "source": [
    "***Goal: Try out different embeddings to see, how (or if) the product categories can be clustered by cosine similarity.***"
   ]
  },
  {
   "cell_type": "code",
   "execution_count": 2,
   "metadata": {},
   "outputs": [
    {
     "data": {
      "text/html": [
       "<div>\n",
       "<style scoped>\n",
       "    .dataframe tbody tr th:only-of-type {\n",
       "        vertical-align: middle;\n",
       "    }\n",
       "\n",
       "    .dataframe tbody tr th {\n",
       "        vertical-align: top;\n",
       "    }\n",
       "\n",
       "    .dataframe thead th {\n",
       "        text-align: right;\n",
       "    }\n",
       "</style>\n",
       "<table border=\"1\" class=\"dataframe\">\n",
       "  <thead>\n",
       "    <tr style=\"text-align: right;\">\n",
       "      <th></th>\n",
       "      <th>product</th>\n",
       "      <th>narrative</th>\n",
       "      <th>narrative_len</th>\n",
       "      <th>narrative_prep</th>\n",
       "      <th>narrative_prep_len</th>\n",
       "      <th>text_lemma</th>\n",
       "      <th>word_count</th>\n",
       "      <th>char_count</th>\n",
       "      <th>sentence_count</th>\n",
       "      <th>sentiment</th>\n",
       "    </tr>\n",
       "  </thead>\n",
       "  <tbody>\n",
       "    <tr>\n",
       "      <th>0</th>\n",
       "      <td>credit_card</td>\n",
       "      <td>used third party company book vacation package...</td>\n",
       "      <td>64</td>\n",
       "      <td>party company book vacation package notified c...</td>\n",
       "      <td>53</td>\n",
       "      <td>party company book vacation package notify com...</td>\n",
       "      <td>64</td>\n",
       "      <td>485</td>\n",
       "      <td>1</td>\n",
       "      <td>-0.138095</td>\n",
       "    </tr>\n",
       "    <tr>\n",
       "      <th>1</th>\n",
       "      <td>credit_card</td>\n",
       "      <td>company u bank reliacard issue account locked ...</td>\n",
       "      <td>66</td>\n",
       "      <td>company u bank reliacard issue account locked ...</td>\n",
       "      <td>58</td>\n",
       "      <td>company u bank reliacard issue account locked ...</td>\n",
       "      <td>66</td>\n",
       "      <td>421</td>\n",
       "      <td>1</td>\n",
       "      <td>-0.083333</td>\n",
       "    </tr>\n",
       "    <tr>\n",
       "      <th>2</th>\n",
       "      <td>credit_card</td>\n",
       "      <td>victim identity fraud personal financial infor...</td>\n",
       "      <td>91</td>\n",
       "      <td>victim identity fraud personal financial infor...</td>\n",
       "      <td>83</td>\n",
       "      <td>victim identity fraud personal financial infor...</td>\n",
       "      <td>91</td>\n",
       "      <td>696</td>\n",
       "      <td>1</td>\n",
       "      <td>-0.002679</td>\n",
       "    </tr>\n",
       "    <tr>\n",
       "      <th>3</th>\n",
       "      <td>credit_card</td>\n",
       "      <td>browsing online site invited apply credit card...</td>\n",
       "      <td>70</td>\n",
       "      <td>browsing online site invited apply credit card...</td>\n",
       "      <td>64</td>\n",
       "      <td>browse online site invite apply credit card si...</td>\n",
       "      <td>70</td>\n",
       "      <td>496</td>\n",
       "      <td>1</td>\n",
       "      <td>-0.243056</td>\n",
       "    </tr>\n",
       "    <tr>\n",
       "      <th>4</th>\n",
       "      <td>credit_card</td>\n",
       "      <td>made payment credit card balance resulting cre...</td>\n",
       "      <td>20</td>\n",
       "      <td>payment credit card balance resulting credit b...</td>\n",
       "      <td>18</td>\n",
       "      <td>payment credit card balance result credit bala...</td>\n",
       "      <td>20</td>\n",
       "      <td>143</td>\n",
       "      <td>1</td>\n",
       "      <td>0.000000</td>\n",
       "    </tr>\n",
       "  </tbody>\n",
       "</table>\n",
       "</div>"
      ],
      "text/plain": [
       "       product                                          narrative  \\\n",
       "0  credit_card  used third party company book vacation package...   \n",
       "1  credit_card  company u bank reliacard issue account locked ...   \n",
       "2  credit_card  victim identity fraud personal financial infor...   \n",
       "3  credit_card  browsing online site invited apply credit card...   \n",
       "4  credit_card  made payment credit card balance resulting cre...   \n",
       "\n",
       "   narrative_len                                     narrative_prep  \\\n",
       "0             64  party company book vacation package notified c...   \n",
       "1             66  company u bank reliacard issue account locked ...   \n",
       "2             91  victim identity fraud personal financial infor...   \n",
       "3             70  browsing online site invited apply credit card...   \n",
       "4             20  payment credit card balance resulting credit b...   \n",
       "\n",
       "   narrative_prep_len                                         text_lemma  \\\n",
       "0                  53  party company book vacation package notify com...   \n",
       "1                  58  company u bank reliacard issue account locked ...   \n",
       "2                  83  victim identity fraud personal financial infor...   \n",
       "3                  64  browse online site invite apply credit card si...   \n",
       "4                  18  payment credit card balance result credit bala...   \n",
       "\n",
       "   word_count  char_count  sentence_count  sentiment  \n",
       "0          64         485               1  -0.138095  \n",
       "1          66         421               1  -0.083333  \n",
       "2          91         696               1  -0.002679  \n",
       "3          70         496               1  -0.243056  \n",
       "4          20         143               1   0.000000  "
      ]
     },
     "execution_count": 2,
     "metadata": {},
     "output_type": "execute_result"
    }
   ],
   "source": [
    "# Data Loading\n",
    "data_path = os.path.join(\"data\", \"small_data_eda.zip\")\n",
    "data = pd.read_csv(data_path)\n",
    "data.head()"
   ]
  },
  {
   "cell_type": "markdown",
   "metadata": {},
   "source": [
    "### Label Encoding"
   ]
  },
  {
   "cell_type": "code",
   "execution_count": 3,
   "metadata": {},
   "outputs": [
    {
     "data": {
      "text/plain": [
       "array([0, 0, 0, ..., 4, 4, 4])"
      ]
     },
     "execution_count": 3,
     "metadata": {},
     "output_type": "execute_result"
    }
   ],
   "source": [
    "from sklearn.preprocessing import LabelEncoder  # For encoding labels\n",
    "# Encode the target variable (Product Categories)\n",
    "le = LabelEncoder()\n",
    "y = le.fit_transform(data['product'])  # Transform product categories into numerical labels\n",
    "y"
   ]
  },
  {
   "cell_type": "code",
   "execution_count": 4,
   "metadata": {},
   "outputs": [],
   "source": [
    "# write a function to get and plot cosine similiraty by product category\n",
    "def plot_cosine_similarity(embeddings, name):\n",
    "    cosine_sim = cosine_similarity(embeddings)\n",
    "    # plot the cosine similarity matrix\n",
    "    sns.heatmap(cosine_sim, annot=True, cmap='coolwarm',\n",
    "                xticklabels=embeddings.index,\n",
    "                yticklabels=embeddings.index\n",
    "                ).set_title(\"Cosine Similarity Matrix for \" + name)  "
   ]
  },
  {
   "cell_type": "markdown",
   "metadata": {},
   "source": [
    "#### 4.1 TFIDF on lemmatized text\n",
    "* Updated TFIDF (inclusive Feedback Presentation 1)"
   ]
  },
  {
   "cell_type": "code",
   "execution_count": 5,
   "metadata": {},
   "outputs": [],
   "source": [
    "# Create a TF-IDF vectorizer and fit it on the complaints\n",
    "vectorizer = TfidfVectorizer(max_features=1000, stop_words='english')\n",
    "tfidf_matrix = vectorizer.fit_transform(data['text_lemma'])\n",
    "# Convert to a dataframe for easier manipulation\n",
    "tfidf_df = pd.DataFrame(tfidf_matrix.toarray(), columns=vectorizer.get_feature_names_out())"
   ]
  },
  {
   "cell_type": "code",
   "execution_count": 37,
   "metadata": {},
   "outputs": [],
   "source": [
    "# Add the categories back to the dataframe\n",
    "tfidf_df['product'] = data['product'].values\n",
    "# Group by category and calculate the average TF-IDF values for each\n",
    "category_embeddings = tfidf_df.groupby('product').mean()"
   ]
  },
  {
   "cell_type": "code",
   "execution_count": 38,
   "metadata": {},
   "outputs": [
    {
     "data": {
      "image/png": "[encoded data removed]",
      "text/plain": [
       "<Figure size 640x480 with 2 Axes>"
      ]
     },
     "metadata": {},
     "output_type": "display_data"
    }
   ],
   "source": [
    "plot_cosine_similarity(category_embeddings, \"TFIDF\")"
   ]
  },
  {
   "cell_type": "markdown",
   "metadata": {},
   "source": [
    "#### 4.2 GLOVE on lemmatized text\n",
    "\n",
    "The used model glove.6B.100d.txt is to large to push to github, but can be downloaded from https://nlp.stanford.edu/projects/glove/ and should be placed in the data folder."
   ]
  },
  {
   "cell_type": "code",
   "execution_count": 39,
   "metadata": {},
   "outputs": [
    {
     "data": {
      "image/png": "[encoded data removed]",
      "text/plain": [
       "<Figure size 640x480 with 2 Axes>"
      ]
     },
     "metadata": {},
     "output_type": "display_data"
    }
   ],
   "source": [
    "# Load the model\n",
    "def load_glove_model():\n",
    "    zip_path = os.path.join(\"data\", \"glove.6B.100d.zip\")\n",
    "    glove_file = os.path.join(\"data\", \"glove.6B.100d.txt\")\n",
    "\n",
    "    #unzip the file if not already unzipped\n",
    "    if not os.path.exists(glove_file):\n",
    "        with zipfile.ZipFile(zip_path, 'r') as zip_ref:\n",
    "            zip_ref.extractall(\"data\")\n",
    "        \n",
    "    glove_model = {}\n",
    "    with open(glove_file, 'r', encoding='utf-8') as f:\n",
    "        for line in f:\n",
    "            values = line.split()\n",
    "            word = values[0]\n",
    "            vector = np.array(values[1:], dtype='float32')\n",
    "            glove_model[word] = vector\n",
    "    return glove_model\n",
    "\n",
    "# Get the average GloVe embedding for a complaint\n",
    "def get_average_embedding(text, glove_model):\n",
    "    words = text.split()\n",
    "    embeddings = []\n",
    "    for word in words:\n",
    "        if word in glove_model:\n",
    "            embeddings.append(glove_model[word])\n",
    "    if embeddings:\n",
    "        return np.mean(embeddings, axis=0)\n",
    "    else:\n",
    "        return np.zeros(100)\n",
    "\n",
    "# Load Model and get embeddings\n",
    "glove_model = load_glove_model()\n",
    "#get_embedding(data[\"text_lemma\"][0], glove_model)\n",
    "glove_df = data['text_lemma'].apply(lambda x: get_average_embedding(x, glove_model)).to_frame()\n",
    "glove_df['product'] = data['product'].values\n",
    "glove_df = glove_df.groupby('product')['text_lemma'].apply(np.mean)\n",
    "glove_df = pd.DataFrame(glove_df.tolist(), index=glove_df.index)\n",
    "glove_df\n",
    "plot_cosine_similarity(glove_df, \"GloVe\")\n"
   ]
  },
  {
   "cell_type": "markdown",
   "metadata": {},
   "source": [
    "#### 4.3 Sentence transformers on unlemmatized text:"
   ]
  },
  {
   "cell_type": "code",
   "execution_count": 40,
   "metadata": {},
   "outputs": [],
   "source": [
    "model = SentenceTransformer('all-MiniLM-L6-v2')"
   ]
  },
  {
   "cell_type": "code",
   "execution_count": 41,
   "metadata": {},
   "outputs": [],
   "source": [
    "sbert = model.encode(data[\"narrative_prep\"])"
   ]
  },
  {
   "cell_type": "code",
   "execution_count": 42,
   "metadata": {},
   "outputs": [
    {
     "data": {
      "image/png": "[encoded data removed]",
      "text/plain": [
       "<Figure size 640x480 with 2 Axes>"
      ]
     },
     "metadata": {},
     "output_type": "display_data"
    }
   ],
   "source": [
    "sbert_df = pd.DataFrame(sbert)\n",
    "sbert_df['product'] = data['product'].values\n",
    "sbert_df = sbert_df.groupby('product').mean()\n",
    "plot_cosine_similarity(sbert_df, \"SBERT\")"
   ]
  },
  {
   "cell_type": "markdown",
   "metadata": {},
   "source": [
    "#### 4.4 Word-to-Vec"
   ]
  },
  {
   "cell_type": "code",
   "execution_count": 8,
   "metadata": {},
   "outputs": [],
   "source": [
    "from narrative_to_vec import tokenize_column, add_column_average_genre_vector, train_word2vec_model, store_data"
   ]
  },
  {
   "cell_type": "code",
   "execution_count": 9,
   "metadata": {},
   "outputs": [
    {
     "name": "stdout",
     "output_type": "stream",
     "text": [
      "Done!\n"
     ]
    }
   ],
   "source": [
    "col_name = \"narrative_tokenized\"\n",
    "\n",
    "# Tokenize the column\n",
    "data_w2v = tokenize_column(data, \"narrative_prep\", col_name)\n",
    "\n",
    "# Train a Word2Vec model on the genres\n",
    "train_word2vec_model(data, col_name=col_name)\n",
    "\n",
    "# Add a new column with the average genre vector\n",
    "data_w2v = add_column_average_genre_vector(data, \n",
    "                                        model_path=\"narrative_word2vec.model\", \n",
    "                                        col_name=col_name)\n",
    "\n",
    "# Store the data as a new CSV file\n",
    "store_data(data_w2v, \"data/data_narrative_vector.csv\")\n",
    "\n",
    "print(\"Done!\")\n"
   ]
  },
  {
   "cell_type": "code",
   "execution_count": 10,
   "metadata": {},
   "outputs": [
    {
     "data": {
      "text/html": [
       "<div>\n",
       "<style scoped>\n",
       "    .dataframe tbody tr th:only-of-type {\n",
       "        vertical-align: middle;\n",
       "    }\n",
       "\n",
       "    .dataframe tbody tr th {\n",
       "        vertical-align: top;\n",
       "    }\n",
       "\n",
       "    .dataframe thead th {\n",
       "        text-align: right;\n",
       "    }\n",
       "</style>\n",
       "<table border=\"1\" class=\"dataframe\">\n",
       "  <thead>\n",
       "    <tr style=\"text-align: right;\">\n",
       "      <th></th>\n",
       "      <th>0</th>\n",
       "      <th>1</th>\n",
       "      <th>2</th>\n",
       "      <th>3</th>\n",
       "      <th>4</th>\n",
       "      <th>5</th>\n",
       "      <th>6</th>\n",
       "      <th>7</th>\n",
       "      <th>8</th>\n",
       "      <th>9</th>\n",
       "      <th>...</th>\n",
       "      <th>140</th>\n",
       "      <th>141</th>\n",
       "      <th>142</th>\n",
       "      <th>143</th>\n",
       "      <th>144</th>\n",
       "      <th>145</th>\n",
       "      <th>146</th>\n",
       "      <th>147</th>\n",
       "      <th>148</th>\n",
       "      <th>149</th>\n",
       "    </tr>\n",
       "    <tr>\n",
       "      <th>product</th>\n",
       "      <th></th>\n",
       "      <th></th>\n",
       "      <th></th>\n",
       "      <th></th>\n",
       "      <th></th>\n",
       "      <th></th>\n",
       "      <th></th>\n",
       "      <th></th>\n",
       "      <th></th>\n",
       "      <th></th>\n",
       "      <th></th>\n",
       "      <th></th>\n",
       "      <th></th>\n",
       "      <th></th>\n",
       "      <th></th>\n",
       "      <th></th>\n",
       "      <th></th>\n",
       "      <th></th>\n",
       "      <th></th>\n",
       "      <th></th>\n",
       "      <th></th>\n",
       "    </tr>\n",
       "  </thead>\n",
       "  <tbody>\n",
       "    <tr>\n",
       "      <th>credit_card</th>\n",
       "      <td>-0.278810</td>\n",
       "      <td>0.282765</td>\n",
       "      <td>-0.252474</td>\n",
       "      <td>-0.191481</td>\n",
       "      <td>-0.022195</td>\n",
       "      <td>0.271817</td>\n",
       "      <td>0.520177</td>\n",
       "      <td>-0.717656</td>\n",
       "      <td>-0.154884</td>\n",
       "      <td>-0.124472</td>\n",
       "      <td>...</td>\n",
       "      <td>-0.066912</td>\n",
       "      <td>-0.154771</td>\n",
       "      <td>-0.063798</td>\n",
       "      <td>0.629722</td>\n",
       "      <td>-0.318814</td>\n",
       "      <td>0.007409</td>\n",
       "      <td>0.006257</td>\n",
       "      <td>-0.276733</td>\n",
       "      <td>-0.018492</td>\n",
       "      <td>0.330361</td>\n",
       "    </tr>\n",
       "    <tr>\n",
       "      <th>credit_reporting</th>\n",
       "      <td>-0.479044</td>\n",
       "      <td>0.109106</td>\n",
       "      <td>-0.269541</td>\n",
       "      <td>-0.011368</td>\n",
       "      <td>-0.047342</td>\n",
       "      <td>0.306234</td>\n",
       "      <td>0.672416</td>\n",
       "      <td>-0.116231</td>\n",
       "      <td>0.004063</td>\n",
       "      <td>0.023394</td>\n",
       "      <td>...</td>\n",
       "      <td>0.263427</td>\n",
       "      <td>-0.343718</td>\n",
       "      <td>-0.013990</td>\n",
       "      <td>0.273134</td>\n",
       "      <td>-0.017583</td>\n",
       "      <td>-0.091038</td>\n",
       "      <td>-0.237806</td>\n",
       "      <td>-0.081152</td>\n",
       "      <td>0.275219</td>\n",
       "      <td>0.067728</td>\n",
       "    </tr>\n",
       "    <tr>\n",
       "      <th>debt_collection</th>\n",
       "      <td>-0.350636</td>\n",
       "      <td>0.355940</td>\n",
       "      <td>-0.142880</td>\n",
       "      <td>-0.150142</td>\n",
       "      <td>-0.051315</td>\n",
       "      <td>0.345849</td>\n",
       "      <td>0.589198</td>\n",
       "      <td>-0.151227</td>\n",
       "      <td>-0.216969</td>\n",
       "      <td>-0.210064</td>\n",
       "      <td>...</td>\n",
       "      <td>0.109670</td>\n",
       "      <td>-0.247682</td>\n",
       "      <td>0.050613</td>\n",
       "      <td>0.333411</td>\n",
       "      <td>-0.002118</td>\n",
       "      <td>-0.239861</td>\n",
       "      <td>-0.145219</td>\n",
       "      <td>0.077372</td>\n",
       "      <td>-0.011313</td>\n",
       "      <td>0.176222</td>\n",
       "    </tr>\n",
       "    <tr>\n",
       "      <th>mortgages_and_loans</th>\n",
       "      <td>-0.036409</td>\n",
       "      <td>0.311713</td>\n",
       "      <td>-0.331799</td>\n",
       "      <td>-0.388162</td>\n",
       "      <td>-0.146770</td>\n",
       "      <td>0.149754</td>\n",
       "      <td>0.525123</td>\n",
       "      <td>-0.544789</td>\n",
       "      <td>-0.276832</td>\n",
       "      <td>-0.123052</td>\n",
       "      <td>...</td>\n",
       "      <td>-0.240747</td>\n",
       "      <td>0.000834</td>\n",
       "      <td>0.024899</td>\n",
       "      <td>0.677453</td>\n",
       "      <td>-0.109256</td>\n",
       "      <td>0.040037</td>\n",
       "      <td>-0.234576</td>\n",
       "      <td>-0.280014</td>\n",
       "      <td>0.195062</td>\n",
       "      <td>0.238406</td>\n",
       "    </tr>\n",
       "    <tr>\n",
       "      <th>retail_banking</th>\n",
       "      <td>-0.375825</td>\n",
       "      <td>0.375745</td>\n",
       "      <td>-0.284719</td>\n",
       "      <td>-0.144893</td>\n",
       "      <td>0.090279</td>\n",
       "      <td>0.244988</td>\n",
       "      <td>0.318103</td>\n",
       "      <td>-0.638615</td>\n",
       "      <td>-0.129959</td>\n",
       "      <td>-0.081332</td>\n",
       "      <td>...</td>\n",
       "      <td>-0.110955</td>\n",
       "      <td>-0.076086</td>\n",
       "      <td>-0.298447</td>\n",
       "      <td>0.485083</td>\n",
       "      <td>-0.285805</td>\n",
       "      <td>0.236736</td>\n",
       "      <td>0.174412</td>\n",
       "      <td>-0.373945</td>\n",
       "      <td>0.021887</td>\n",
       "      <td>0.406797</td>\n",
       "    </tr>\n",
       "  </tbody>\n",
       "</table>\n",
       "<p>5 rows × 150 columns</p>\n",
       "</div>"
      ],
      "text/plain": [
       "                          0         1         2         3         4    \\\n",
       "product                                                                 \n",
       "credit_card         -0.278810  0.282765 -0.252474 -0.191481 -0.022195   \n",
       "credit_reporting    -0.479044  0.109106 -0.269541 -0.011368 -0.047342   \n",
       "debt_collection     -0.350636  0.355940 -0.142880 -0.150142 -0.051315   \n",
       "mortgages_and_loans -0.036409  0.311713 -0.331799 -0.388162 -0.146770   \n",
       "retail_banking      -0.375825  0.375745 -0.284719 -0.144893  0.090279   \n",
       "\n",
       "                          5         6         7         8         9    ...  \\\n",
       "product                                                                ...   \n",
       "credit_card          0.271817  0.520177 -0.717656 -0.154884 -0.124472  ...   \n",
       "credit_reporting     0.306234  0.672416 -0.116231  0.004063  0.023394  ...   \n",
       "debt_collection      0.345849  0.589198 -0.151227 -0.216969 -0.210064  ...   \n",
       "mortgages_and_loans  0.149754  0.525123 -0.544789 -0.276832 -0.123052  ...   \n",
       "retail_banking       0.244988  0.318103 -0.638615 -0.129959 -0.081332  ...   \n",
       "\n",
       "                          140       141       142       143       144  \\\n",
       "product                                                                 \n",
       "credit_card         -0.066912 -0.154771 -0.063798  0.629722 -0.318814   \n",
       "credit_reporting     0.263427 -0.343718 -0.013990  0.273134 -0.017583   \n",
       "debt_collection      0.109670 -0.247682  0.050613  0.333411 -0.002118   \n",
       "mortgages_and_loans -0.240747  0.000834  0.024899  0.677453 -0.109256   \n",
       "retail_banking      -0.110955 -0.076086 -0.298447  0.485083 -0.285805   \n",
       "\n",
       "                          145       146       147       148       149  \n",
       "product                                                                \n",
       "credit_card          0.007409  0.006257 -0.276733 -0.018492  0.330361  \n",
       "credit_reporting    -0.091038 -0.237806 -0.081152  0.275219  0.067728  \n",
       "debt_collection     -0.239861 -0.145219  0.077372 -0.011313  0.176222  \n",
       "mortgages_and_loans  0.040037 -0.234576 -0.280014  0.195062  0.238406  \n",
       "retail_banking       0.236736  0.174412 -0.373945  0.021887  0.406797  \n",
       "\n",
       "[5 rows x 150 columns]"
      ]
     },
     "execution_count": 10,
     "metadata": {},
     "output_type": "execute_result"
    }
   ],
   "source": [
    "data_w2v_df = data_w2v.groupby('product')['narrative_tokenized_vector'].apply(np.mean)\n",
    "data_w2v_df = pd.DataFrame(data_w2v_df.tolist(), index=data_w2v_df.index)\n",
    "data_w2v_df"
   ]
  },
  {
   "cell_type": "code",
   "execution_count": 42,
   "metadata": {},
   "outputs": [
    {
     "data": {
      "image/png": "[encoded data removed]",
      "text/plain": [
       "<Figure size 640x480 with 2 Axes>"
      ]
     },
     "metadata": {},
     "output_type": "display_data"
    }
   ],
   "source": [
    "similarity_matrix = cosine_similarity(data_w2v_df)\n",
    "plot_cosine_similarity(data_w2v_df, \"Word2Vec\")"
   ]
  },
  {
   "cell_type": "markdown",
   "metadata": {},
   "source": [
    "## Model evaluation"
   ]
  },
  {
   "cell_type": "code",
   "execution_count": 11,
   "metadata": {},
   "outputs": [],
   "source": [
    "from sklearn.model_selection import train_test_split  # For splitting the data\n",
    "from sklearn.linear_model import LogisticRegression  # For training the model\n",
    "from sklearn.metrics import accuracy_score, classification_report  # For evaluating the model\n",
    "import joblib\n",
    "from sklearn.ensemble import RandomForestClassifier\n",
    "from xgboost import XGBClassifier\n",
    "from sklearn.naive_bayes import MultinomialNB\n",
    "from sklearn.svm import SVC\n",
    "\n",
    "from sklearn.model_selection import GridSearchCV\n",
    "from sklearn.model_selection import cross_val_score"
   ]
  },
  {
   "cell_type": "code",
   "execution_count": 12,
   "metadata": {},
   "outputs": [
    {
     "data": {
      "text/html": [
       "<div>\n",
       "<style scoped>\n",
       "    .dataframe tbody tr th:only-of-type {\n",
       "        vertical-align: middle;\n",
       "    }\n",
       "\n",
       "    .dataframe tbody tr th {\n",
       "        vertical-align: top;\n",
       "    }\n",
       "\n",
       "    .dataframe thead th {\n",
       "        text-align: right;\n",
       "    }\n",
       "</style>\n",
       "<table border=\"1\" class=\"dataframe\">\n",
       "  <thead>\n",
       "    <tr style=\"text-align: right;\">\n",
       "      <th></th>\n",
       "      <th>product</th>\n",
       "      <th>narrative</th>\n",
       "      <th>narrative_len</th>\n",
       "      <th>narrative_prep</th>\n",
       "      <th>narrative_prep_len</th>\n",
       "      <th>text_lemma</th>\n",
       "      <th>word_count</th>\n",
       "      <th>char_count</th>\n",
       "      <th>sentence_count</th>\n",
       "      <th>sentiment</th>\n",
       "    </tr>\n",
       "  </thead>\n",
       "  <tbody>\n",
       "    <tr>\n",
       "      <th>0</th>\n",
       "      <td>credit_card</td>\n",
       "      <td>used third party company book vacation package...</td>\n",
       "      <td>64</td>\n",
       "      <td>party company book vacation package notified c...</td>\n",
       "      <td>53</td>\n",
       "      <td>party company book vacation package notify com...</td>\n",
       "      <td>64</td>\n",
       "      <td>485</td>\n",
       "      <td>1</td>\n",
       "      <td>-0.138095</td>\n",
       "    </tr>\n",
       "    <tr>\n",
       "      <th>1</th>\n",
       "      <td>credit_card</td>\n",
       "      <td>company u bank reliacard issue account locked ...</td>\n",
       "      <td>66</td>\n",
       "      <td>company u bank reliacard issue account locked ...</td>\n",
       "      <td>58</td>\n",
       "      <td>company u bank reliacard issue account locked ...</td>\n",
       "      <td>66</td>\n",
       "      <td>421</td>\n",
       "      <td>1</td>\n",
       "      <td>-0.083333</td>\n",
       "    </tr>\n",
       "    <tr>\n",
       "      <th>2</th>\n",
       "      <td>credit_card</td>\n",
       "      <td>victim identity fraud personal financial infor...</td>\n",
       "      <td>91</td>\n",
       "      <td>victim identity fraud personal financial infor...</td>\n",
       "      <td>83</td>\n",
       "      <td>victim identity fraud personal financial infor...</td>\n",
       "      <td>91</td>\n",
       "      <td>696</td>\n",
       "      <td>1</td>\n",
       "      <td>-0.002679</td>\n",
       "    </tr>\n",
       "    <tr>\n",
       "      <th>3</th>\n",
       "      <td>credit_card</td>\n",
       "      <td>browsing online site invited apply credit card...</td>\n",
       "      <td>70</td>\n",
       "      <td>browsing online site invited apply credit card...</td>\n",
       "      <td>64</td>\n",
       "      <td>browse online site invite apply credit card si...</td>\n",
       "      <td>70</td>\n",
       "      <td>496</td>\n",
       "      <td>1</td>\n",
       "      <td>-0.243056</td>\n",
       "    </tr>\n",
       "    <tr>\n",
       "      <th>4</th>\n",
       "      <td>credit_card</td>\n",
       "      <td>made payment credit card balance resulting cre...</td>\n",
       "      <td>20</td>\n",
       "      <td>payment credit card balance resulting credit b...</td>\n",
       "      <td>18</td>\n",
       "      <td>payment credit card balance result credit bala...</td>\n",
       "      <td>20</td>\n",
       "      <td>143</td>\n",
       "      <td>1</td>\n",
       "      <td>0.000000</td>\n",
       "    </tr>\n",
       "  </tbody>\n",
       "</table>\n",
       "</div>"
      ],
      "text/plain": [
       "       product                                          narrative  \\\n",
       "0  credit_card  used third party company book vacation package...   \n",
       "1  credit_card  company u bank reliacard issue account locked ...   \n",
       "2  credit_card  victim identity fraud personal financial infor...   \n",
       "3  credit_card  browsing online site invited apply credit card...   \n",
       "4  credit_card  made payment credit card balance resulting cre...   \n",
       "\n",
       "   narrative_len                                     narrative_prep  \\\n",
       "0             64  party company book vacation package notified c...   \n",
       "1             66  company u bank reliacard issue account locked ...   \n",
       "2             91  victim identity fraud personal financial infor...   \n",
       "3             70  browsing online site invited apply credit card...   \n",
       "4             20  payment credit card balance resulting credit b...   \n",
       "\n",
       "   narrative_prep_len                                         text_lemma  \\\n",
       "0                  53  party company book vacation package notify com...   \n",
       "1                  58  company u bank reliacard issue account locked ...   \n",
       "2                  83  victim identity fraud personal financial infor...   \n",
       "3                  64  browse online site invite apply credit card si...   \n",
       "4                  18  payment credit card balance result credit bala...   \n",
       "\n",
       "   word_count  char_count  sentence_count  sentiment  \n",
       "0          64         485               1  -0.138095  \n",
       "1          66         421               1  -0.083333  \n",
       "2          91         696               1  -0.002679  \n",
       "3          70         496               1  -0.243056  \n",
       "4          20         143               1   0.000000  "
      ]
     },
     "execution_count": 12,
     "metadata": {},
     "output_type": "execute_result"
    }
   ],
   "source": [
    "data_path = os.path.join(\"data\", \"small_data_eda.zip\")\n",
    "# Load data\n",
    "data = pd.read_csv(data_path)\n",
    "data.head()"
   ]
  },
  {
   "cell_type": "code",
   "execution_count": 13,
   "metadata": {},
   "outputs": [],
   "source": [
    "# Ensure that both 'narrative_prep' and 'product' have no missing values\n",
    "data_filtered = data.dropna(subset=['narrative_prep', 'product'])\n",
    "# Encode the target variable (Product Categories)\n",
    "le = LabelEncoder()\n",
    "y = le.fit_transform(data_filtered['product'])  # Use the filtered data"
   ]
  },
  {
   "cell_type": "code",
   "execution_count": 14,
   "metadata": {},
   "outputs": [],
   "source": [
    "# Function to train and evaluate a model\n",
    "def train_evalute_model(X_train, y_train, X_test, y_test, model):\n",
    "    # Train the classifier\n",
    "    model.fit(X_train, y_train)\n",
    "\n",
    "    # Make predictions\n",
    "    y_pred = model.predict(X_test)\n",
    "\n",
    "    # Evaluate the model\n",
    "    report = classification_report(y_test, y_pred, target_names=le.classes_)\n",
    "    return report\n",
    "\n",
    "# Function to cross-validate a model\n",
    "def cross_validate_model(X, y, model, cv=5):\n",
    "    scores = cross_val_score(model, X, y, cv=cv, scoring='accuracy')\n",
    "    print(f\"Cross-validation accuracy scores: {scores}\")\n",
    "    print(f\"Mean accuracy: {scores.mean()}\")"
   ]
  },
  {
   "cell_type": "markdown",
   "metadata": {},
   "source": [
    "**TF-IDF Preprocessing**"
   ]
  },
  {
   "cell_type": "code",
   "execution_count": 60,
   "metadata": {},
   "outputs": [],
   "source": [
    "# TF-IDF\n",
    "tfidf = TfidfVectorizer(max_features=20)\n",
    "tfidf_matrix = tfidf.fit_transform(data_filtered['narrative_prep'])\n",
    "# Create a DataFrame with TF-IDF features\n",
    "tfidf_df = pd.DataFrame(tfidf_matrix.toarray(), columns=tfidf.get_feature_names_out())"
   ]
  },
  {
   "cell_type": "code",
   "execution_count": 61,
   "metadata": {},
   "outputs": [],
   "source": [
    "# Split the data into training and testing sets\n",
    "X_train, X_test, y_train, y_test = train_test_split(tfidf_df, y, test_size=0.2, random_state=42)"
   ]
  },
  {
   "cell_type": "markdown",
   "metadata": {},
   "source": [
    "**Word2Vec Preprocessing**"
   ]
  },
  {
   "cell_type": "code",
   "execution_count": 15,
   "metadata": {},
   "outputs": [],
   "source": [
    "X_w2v = pd.DataFrame(data_w2v['narrative_tokenized_vector'].tolist(), index=data_w2v.index)"
   ]
  },
  {
   "cell_type": "code",
   "execution_count": 16,
   "metadata": {},
   "outputs": [],
   "source": [
    "X_train_w2v, X_test_w2v, y_train_w2v, y_test_w2v = train_test_split(X_w2v, y, test_size=0.2, random_state=42)"
   ]
  },
  {
   "cell_type": "markdown",
   "metadata": {},
   "source": [
    "#### 1) TF-IDF - Logistic regression"
   ]
  },
  {
   "cell_type": "code",
   "execution_count": 51,
   "metadata": {},
   "outputs": [
    {
     "name": "stdout",
     "output_type": "stream",
     "text": [
      "Logistic Regression Report with TF-IDF Features:\n",
      "                     precision    recall  f1-score   support\n",
      "\n",
      "        credit_card       0.73      0.65      0.69      2637\n",
      "   credit_reporting       0.62      0.71      0.66      2631\n",
      "    debt_collection       0.74      0.58      0.65      2694\n",
      "mortgages_and_loans       0.72      0.78      0.75      2710\n",
      "     retail_banking       0.71      0.79      0.75      2763\n",
      "\n",
      "           accuracy                           0.70     13435\n",
      "          macro avg       0.71      0.70      0.70     13435\n",
      "       weighted avg       0.71      0.70      0.70     13435\n",
      "\n"
     ]
    }
   ],
   "source": [
    "# Train the classifier (Logistic Regression as an example)\n",
    "lr_model = LogisticRegression(max_iter=1000)\n",
    "lr_report = train_evalute_model(X_train, y_train, X_test, y_test, lr_model)\n",
    "print(\"Logistic Regression Report with TF-IDF Features:\")\n",
    "print(lr_report)"
   ]
  },
  {
   "cell_type": "markdown",
   "metadata": {},
   "source": [
    "##### 1.1) TF-IDF - Logistic regression - Hyperparameter tuning"
   ]
  },
  {
   "cell_type": "code",
   "execution_count": 72,
   "metadata": {},
   "outputs": [
    {
     "name": "stdout",
     "output_type": "stream",
     "text": [
      "Fitting 5 folds for each of 8 candidates, totalling 40 fits\n",
      "[CV] END ................................C=0.1, solver=lbfgs; total time=   4.4s\n",
      "[CV] END ................................C=0.1, solver=lbfgs; total time=   1.0s\n",
      "[CV] END ................................C=0.1, solver=lbfgs; total time=   4.8s\n",
      "[CV] END ................................C=0.1, solver=lbfgs; total time=   5.4s\n",
      "[CV] END ................................C=0.1, solver=lbfgs; total time=   4.3s\n",
      "[CV] END ............................C=0.1, solver=liblinear; total time=   0.3s\n",
      "[CV] END ............................C=0.1, solver=liblinear; total time=   0.3s\n",
      "[CV] END ............................C=0.1, solver=liblinear; total time=   0.3s\n",
      "[CV] END ............................C=0.1, solver=liblinear; total time=   0.3s\n",
      "[CV] END ............................C=0.1, solver=liblinear; total time=   0.3s\n",
      "[CV] END ..................................C=1, solver=lbfgs; total time=   0.5s\n",
      "[CV] END ..................................C=1, solver=lbfgs; total time=   1.2s\n",
      "[CV] END ..................................C=1, solver=lbfgs; total time=   0.8s\n",
      "[CV] END ..................................C=1, solver=lbfgs; total time=   0.7s\n",
      "[CV] END ..................................C=1, solver=lbfgs; total time=   6.6s\n",
      "[CV] END ..............................C=1, solver=liblinear; total time=   0.4s\n",
      "[CV] END ..............................C=1, solver=liblinear; total time=   0.3s\n",
      "[CV] END ..............................C=1, solver=liblinear; total time=   0.3s\n",
      "[CV] END ..............................C=1, solver=liblinear; total time=   0.4s\n",
      "[CV] END ..............................C=1, solver=liblinear; total time=   0.4s\n",
      "[CV] END .................................C=10, solver=lbfgs; total time=   6.2s\n",
      "[CV] END .................................C=10, solver=lbfgs; total time=   4.7s\n",
      "[CV] END .................................C=10, solver=lbfgs; total time=   2.5s\n",
      "[CV] END .................................C=10, solver=lbfgs; total time=   1.9s\n",
      "[CV] END .................................C=10, solver=lbfgs; total time=   3.0s\n",
      "[CV] END .............................C=10, solver=liblinear; total time=   0.3s\n",
      "[CV] END .............................C=10, solver=liblinear; total time=   0.3s\n",
      "[CV] END .............................C=10, solver=liblinear; total time=   0.4s\n",
      "[CV] END .............................C=10, solver=liblinear; total time=   0.4s\n",
      "[CV] END .............................C=10, solver=liblinear; total time=   0.4s\n",
      "[CV] END ................................C=100, solver=lbfgs; total time=   0.9s\n",
      "[CV] END ................................C=100, solver=lbfgs; total time=   2.3s\n",
      "[CV] END ................................C=100, solver=lbfgs; total time=   0.7s\n",
      "[CV] END ................................C=100, solver=lbfgs; total time=   3.5s\n",
      "[CV] END ................................C=100, solver=lbfgs; total time=   1.6s\n",
      "[CV] END ............................C=100, solver=liblinear; total time=   0.4s\n",
      "[CV] END ............................C=100, solver=liblinear; total time=   0.3s\n",
      "[CV] END ............................C=100, solver=liblinear; total time=   0.3s\n",
      "[CV] END ............................C=100, solver=liblinear; total time=   0.3s\n",
      "[CV] END ............................C=100, solver=liblinear; total time=   0.4s\n",
      "Best hyperparameters found:  {'C': 1, 'solver': 'liblinear'}\n",
      "                     precision    recall  f1-score   support\n",
      "\n",
      "        credit_card       0.73      0.65      0.69      2637\n",
      "   credit_reporting       0.63      0.70      0.66      2631\n",
      "    debt_collection       0.75      0.58      0.65      2694\n",
      "mortgages_and_loans       0.72      0.78      0.75      2710\n",
      "     retail_banking       0.71      0.79      0.74      2763\n",
      "\n",
      "           accuracy                           0.70     13435\n",
      "          macro avg       0.71      0.70      0.70     13435\n",
      "       weighted avg       0.71      0.70      0.70     13435\n",
      "\n"
     ]
    }
   ],
   "source": [
    "# Define the parameter grid for Logistic Regression\n",
    "param_grid_lr = {'C': [0.1, 1, 10, 100], 'solver': ['lbfgs', 'liblinear']}\n",
    "\n",
    "# Perform GridSearchCV\n",
    "grid_lr = GridSearchCV(LogisticRegression(max_iter=1000), param_grid_lr, refit=True, verbose=2, cv=5)\n",
    "grid_lr.fit(X_train, y_train)\n",
    "\n",
    "# Print the best hyperparameters\n",
    "print(\"Best hyperparameters found: \", grid_lr.best_params_)\n",
    "\n",
    "# Update the model with the best parameters\n",
    "best_lr_model = grid_lr.best_estimator_\n",
    "\n",
    "# Evaluate the best model found by GridSearchCV\n",
    "best_lr_report = train_evalute_model(X_train, y_train, X_test, y_test, best_lr_model)\n",
    "print(best_lr_report)"
   ]
  },
  {
   "cell_type": "markdown",
   "metadata": {},
   "source": [
    "#### 2) TF-IDF - Random Forest Classifier"
   ]
  },
  {
   "cell_type": "code",
   "execution_count": 53,
   "metadata": {},
   "outputs": [
    {
     "name": "stdout",
     "output_type": "stream",
     "text": [
      "Random Forest Report with TF-IDF Features:\n",
      "                     precision    recall  f1-score   support\n",
      "\n",
      "        credit_card       0.71      0.72      0.71      2637\n",
      "   credit_reporting       0.72      0.72      0.72      2631\n",
      "    debt_collection       0.71      0.68      0.70      2694\n",
      "mortgages_and_loans       0.75      0.77      0.76      2710\n",
      "     retail_banking       0.76      0.76      0.76      2763\n",
      "\n",
      "           accuracy                           0.73     13435\n",
      "          macro avg       0.73      0.73      0.73     13435\n",
      "       weighted avg       0.73      0.73      0.73     13435\n",
      "\n"
     ]
    }
   ],
   "source": [
    "# Random Forest Classifier\n",
    "rf_model = RandomForestClassifier(n_estimators=100, random_state=10)\n",
    "rf_report = train_evalute_model(X_train, y_train, X_test, y_test, rf_model)\n",
    "print(\"Random Forest Report with TF-IDF Features:\")\n",
    "print(rf_report)"
   ]
  },
  {
   "cell_type": "markdown",
   "metadata": {},
   "source": [
    "##### 2.1) TF-IDF - Random Forest - Hyperparameter tuning"
   ]
  },
  {
   "cell_type": "code",
   "execution_count": 78,
   "metadata": {},
   "outputs": [
    {
     "name": "stdout",
     "output_type": "stream",
     "text": [
      "Fitting 5 folds for each of 27 candidates, totalling 135 fits\n",
      "[CV] END max_depth=10, min_samples_split=2, n_estimators=100; total time=   3.6s\n",
      "[CV] END max_depth=10, min_samples_split=2, n_estimators=100; total time=   3.6s\n",
      "[CV] END max_depth=10, min_samples_split=2, n_estimators=100; total time=   3.5s\n",
      "[CV] END max_depth=10, min_samples_split=2, n_estimators=100; total time=   3.6s\n",
      "[CV] END max_depth=10, min_samples_split=2, n_estimators=100; total time=   3.6s\n",
      "[CV] END max_depth=10, min_samples_split=2, n_estimators=200; total time=   7.4s\n",
      "[CV] END max_depth=10, min_samples_split=2, n_estimators=200; total time=   7.1s\n",
      "[CV] END max_depth=10, min_samples_split=2, n_estimators=200; total time=   7.1s\n",
      "[CV] END max_depth=10, min_samples_split=2, n_estimators=200; total time=   7.3s\n",
      "[CV] END max_depth=10, min_samples_split=2, n_estimators=200; total time=   7.0s\n",
      "[CV] END max_depth=10, min_samples_split=2, n_estimators=300; total time=  10.4s\n",
      "[CV] END max_depth=10, min_samples_split=2, n_estimators=300; total time=  10.6s\n",
      "[CV] END max_depth=10, min_samples_split=2, n_estimators=300; total time=  10.3s\n",
      "[CV] END max_depth=10, min_samples_split=2, n_estimators=300; total time=  10.3s\n",
      "[CV] END max_depth=10, min_samples_split=2, n_estimators=300; total time=  10.2s\n",
      "[CV] END max_depth=10, min_samples_split=5, n_estimators=100; total time=   3.5s\n",
      "[CV] END max_depth=10, min_samples_split=5, n_estimators=100; total time=   3.4s\n",
      "[CV] END max_depth=10, min_samples_split=5, n_estimators=100; total time=   3.5s\n",
      "[CV] END max_depth=10, min_samples_split=5, n_estimators=100; total time=   3.5s\n",
      "[CV] END max_depth=10, min_samples_split=5, n_estimators=100; total time=   3.5s\n",
      "[CV] END max_depth=10, min_samples_split=5, n_estimators=200; total time=   6.9s\n",
      "[CV] END max_depth=10, min_samples_split=5, n_estimators=200; total time=   6.9s\n",
      "[CV] END max_depth=10, min_samples_split=5, n_estimators=200; total time=   7.3s\n",
      "[CV] END max_depth=10, min_samples_split=5, n_estimators=200; total time=   7.1s\n",
      "[CV] END max_depth=10, min_samples_split=5, n_estimators=200; total time=   7.1s\n",
      "[CV] END max_depth=10, min_samples_split=5, n_estimators=300; total time=  10.8s\n",
      "[CV] END max_depth=10, min_samples_split=5, n_estimators=300; total time=  10.4s\n",
      "[CV] END max_depth=10, min_samples_split=5, n_estimators=300; total time=  10.4s\n",
      "[CV] END max_depth=10, min_samples_split=5, n_estimators=300; total time=  10.8s\n",
      "[CV] END max_depth=10, min_samples_split=5, n_estimators=300; total time=  10.4s\n",
      "[CV] END max_depth=10, min_samples_split=10, n_estimators=100; total time=   3.5s\n",
      "[CV] END max_depth=10, min_samples_split=10, n_estimators=100; total time=   3.5s\n",
      "[CV] END max_depth=10, min_samples_split=10, n_estimators=100; total time=   3.5s\n",
      "[CV] END max_depth=10, min_samples_split=10, n_estimators=100; total time=   3.8s\n",
      "[CV] END max_depth=10, min_samples_split=10, n_estimators=100; total time=   3.5s\n",
      "[CV] END max_depth=10, min_samples_split=10, n_estimators=200; total time=   7.0s\n",
      "[CV] END max_depth=10, min_samples_split=10, n_estimators=200; total time=   6.9s\n",
      "[CV] END max_depth=10, min_samples_split=10, n_estimators=200; total time=   7.3s\n",
      "[CV] END max_depth=10, min_samples_split=10, n_estimators=200; total time=   7.1s\n",
      "[CV] END max_depth=10, min_samples_split=10, n_estimators=200; total time=   7.5s\n",
      "[CV] END max_depth=10, min_samples_split=10, n_estimators=300; total time=  10.7s\n",
      "[CV] END max_depth=10, min_samples_split=10, n_estimators=300; total time=  10.9s\n",
      "[CV] END max_depth=10, min_samples_split=10, n_estimators=300; total time=  10.3s\n",
      "[CV] END max_depth=10, min_samples_split=10, n_estimators=300; total time=  10.8s\n",
      "[CV] END max_depth=10, min_samples_split=10, n_estimators=300; total time=  10.9s\n",
      "[CV] END max_depth=20, min_samples_split=2, n_estimators=100; total time=   5.5s\n",
      "[CV] END max_depth=20, min_samples_split=2, n_estimators=100; total time=   5.5s\n",
      "[CV] END max_depth=20, min_samples_split=2, n_estimators=100; total time=   5.4s\n",
      "[CV] END max_depth=20, min_samples_split=2, n_estimators=100; total time=   5.5s\n",
      "[CV] END max_depth=20, min_samples_split=2, n_estimators=100; total time=   5.6s\n",
      "[CV] END max_depth=20, min_samples_split=2, n_estimators=200; total time=  10.7s\n",
      "[CV] END max_depth=20, min_samples_split=2, n_estimators=200; total time=  10.5s\n",
      "[CV] END max_depth=20, min_samples_split=2, n_estimators=200; total time=  10.6s\n",
      "[CV] END max_depth=20, min_samples_split=2, n_estimators=200; total time=  10.6s\n",
      "[CV] END max_depth=20, min_samples_split=2, n_estimators=200; total time=  10.5s\n",
      "[CV] END max_depth=20, min_samples_split=2, n_estimators=300; total time=  16.1s\n",
      "[CV] END max_depth=20, min_samples_split=2, n_estimators=300; total time=  16.5s\n",
      "[CV] END max_depth=20, min_samples_split=2, n_estimators=300; total time=  16.7s\n",
      "[CV] END max_depth=20, min_samples_split=2, n_estimators=300; total time=  16.5s\n",
      "[CV] END max_depth=20, min_samples_split=2, n_estimators=300; total time=  16.3s\n",
      "[CV] END max_depth=20, min_samples_split=5, n_estimators=100; total time=   5.5s\n",
      "[CV] END max_depth=20, min_samples_split=5, n_estimators=100; total time=   5.4s\n",
      "[CV] END max_depth=20, min_samples_split=5, n_estimators=100; total time=   5.4s\n",
      "[CV] END max_depth=20, min_samples_split=5, n_estimators=100; total time=   5.2s\n",
      "[CV] END max_depth=20, min_samples_split=5, n_estimators=100; total time=   5.2s\n",
      "[CV] END max_depth=20, min_samples_split=5, n_estimators=200; total time=  10.7s\n",
      "[CV] END max_depth=20, min_samples_split=5, n_estimators=200; total time=  10.5s\n",
      "[CV] END max_depth=20, min_samples_split=5, n_estimators=200; total time=  10.4s\n",
      "[CV] END max_depth=20, min_samples_split=5, n_estimators=200; total time=  11.1s\n",
      "[CV] END max_depth=20, min_samples_split=5, n_estimators=200; total time=  11.1s\n",
      "[CV] END max_depth=20, min_samples_split=5, n_estimators=300; total time=  16.0s\n",
      "[CV] END max_depth=20, min_samples_split=5, n_estimators=300; total time=  16.2s\n",
      "[CV] END max_depth=20, min_samples_split=5, n_estimators=300; total time=  16.3s\n",
      "[CV] END max_depth=20, min_samples_split=5, n_estimators=300; total time=  16.8s\n",
      "[CV] END max_depth=20, min_samples_split=5, n_estimators=300; total time=  16.6s\n",
      "[CV] END max_depth=20, min_samples_split=10, n_estimators=100; total time=   5.4s\n",
      "[CV] END max_depth=20, min_samples_split=10, n_estimators=100; total time=   5.1s\n",
      "[CV] END max_depth=20, min_samples_split=10, n_estimators=100; total time=   5.1s\n",
      "[CV] END max_depth=20, min_samples_split=10, n_estimators=100; total time=   5.1s\n",
      "[CV] END max_depth=20, min_samples_split=10, n_estimators=100; total time=   5.6s\n",
      "[CV] END max_depth=20, min_samples_split=10, n_estimators=200; total time=  11.2s\n",
      "[CV] END max_depth=20, min_samples_split=10, n_estimators=200; total time=  10.2s\n",
      "[CV] END max_depth=20, min_samples_split=10, n_estimators=200; total time=  10.2s\n",
      "[CV] END max_depth=20, min_samples_split=10, n_estimators=200; total time=  10.2s\n",
      "[CV] END max_depth=20, min_samples_split=10, n_estimators=200; total time=  10.4s\n",
      "[CV] END max_depth=20, min_samples_split=10, n_estimators=300; total time=  15.6s\n",
      "[CV] END max_depth=20, min_samples_split=10, n_estimators=300; total time=  15.3s\n",
      "[CV] END max_depth=20, min_samples_split=10, n_estimators=300; total time=  15.3s\n",
      "[CV] END max_depth=20, min_samples_split=10, n_estimators=300; total time=  15.4s\n",
      "[CV] END max_depth=20, min_samples_split=10, n_estimators=300; total time=  15.3s\n",
      "[CV] END max_depth=30, min_samples_split=2, n_estimators=100; total time=   5.8s\n",
      "[CV] END max_depth=30, min_samples_split=2, n_estimators=100; total time=   5.8s\n",
      "[CV] END max_depth=30, min_samples_split=2, n_estimators=100; total time=   5.7s\n",
      "[CV] END max_depth=30, min_samples_split=2, n_estimators=100; total time=   5.7s\n",
      "[CV] END max_depth=30, min_samples_split=2, n_estimators=100; total time=   5.7s\n",
      "[CV] END max_depth=30, min_samples_split=2, n_estimators=200; total time=  11.4s\n",
      "[CV] END max_depth=30, min_samples_split=2, n_estimators=200; total time=  11.5s\n",
      "[CV] END max_depth=30, min_samples_split=2, n_estimators=200; total time=  11.4s\n",
      "[CV] END max_depth=30, min_samples_split=2, n_estimators=200; total time=  11.3s\n",
      "[CV] END max_depth=30, min_samples_split=2, n_estimators=200; total time=  11.4s\n",
      "[CV] END max_depth=30, min_samples_split=2, n_estimators=300; total time=  17.1s\n",
      "[CV] END max_depth=30, min_samples_split=2, n_estimators=300; total time=  17.1s\n",
      "[CV] END max_depth=30, min_samples_split=2, n_estimators=300; total time=  17.0s\n",
      "[CV] END max_depth=30, min_samples_split=2, n_estimators=300; total time=  17.0s\n",
      "[CV] END max_depth=30, min_samples_split=2, n_estimators=300; total time=  17.0s\n",
      "[CV] END max_depth=30, min_samples_split=5, n_estimators=100; total time=   5.6s\n",
      "[CV] END max_depth=30, min_samples_split=5, n_estimators=100; total time=   5.6s\n",
      "[CV] END max_depth=30, min_samples_split=5, n_estimators=100; total time=   5.6s\n",
      "[CV] END max_depth=30, min_samples_split=5, n_estimators=100; total time=   5.6s\n",
      "[CV] END max_depth=30, min_samples_split=5, n_estimators=100; total time=   5.6s\n",
      "[CV] END max_depth=30, min_samples_split=5, n_estimators=200; total time=  11.0s\n",
      "[CV] END max_depth=30, min_samples_split=5, n_estimators=200; total time=  11.0s\n",
      "[CV] END max_depth=30, min_samples_split=5, n_estimators=200; total time=  11.0s\n",
      "[CV] END max_depth=30, min_samples_split=5, n_estimators=200; total time=  11.1s\n",
      "[CV] END max_depth=30, min_samples_split=5, n_estimators=200; total time=  11.0s\n",
      "[CV] END max_depth=30, min_samples_split=5, n_estimators=300; total time=  17.0s\n",
      "[CV] END max_depth=30, min_samples_split=5, n_estimators=300; total time=  16.6s\n",
      "[CV] END max_depth=30, min_samples_split=5, n_estimators=300; total time=  16.6s\n",
      "[CV] END max_depth=30, min_samples_split=5, n_estimators=300; total time=  16.6s\n",
      "[CV] END max_depth=30, min_samples_split=5, n_estimators=300; total time=  16.5s\n",
      "[CV] END max_depth=30, min_samples_split=10, n_estimators=100; total time=   5.4s\n",
      "[CV] END max_depth=30, min_samples_split=10, n_estimators=100; total time=   5.4s\n",
      "[CV] END max_depth=30, min_samples_split=10, n_estimators=100; total time=   5.4s\n",
      "[CV] END max_depth=30, min_samples_split=10, n_estimators=100; total time=   5.4s\n",
      "[CV] END max_depth=30, min_samples_split=10, n_estimators=100; total time=   5.4s\n",
      "[CV] END max_depth=30, min_samples_split=10, n_estimators=200; total time=  10.7s\n",
      "[CV] END max_depth=30, min_samples_split=10, n_estimators=200; total time=  10.7s\n",
      "[CV] END max_depth=30, min_samples_split=10, n_estimators=200; total time=  10.6s\n",
      "[CV] END max_depth=30, min_samples_split=10, n_estimators=200; total time=  10.8s\n",
      "[CV] END max_depth=30, min_samples_split=10, n_estimators=200; total time=  10.7s\n",
      "[CV] END max_depth=30, min_samples_split=10, n_estimators=300; total time=  16.0s\n",
      "[CV] END max_depth=30, min_samples_split=10, n_estimators=300; total time=  16.1s\n",
      "[CV] END max_depth=30, min_samples_split=10, n_estimators=300; total time=  16.2s\n",
      "[CV] END max_depth=30, min_samples_split=10, n_estimators=300; total time=  16.2s\n",
      "[CV] END max_depth=30, min_samples_split=10, n_estimators=300; total time=  16.3s\n",
      "Best hyperparameters for Random Forest:  {'max_depth': 20, 'min_samples_split': 5, 'n_estimators': 300}\n",
      "                     precision    recall  f1-score   support\n",
      "\n",
      "        credit_card       0.72      0.71      0.72      2637\n",
      "   credit_reporting       0.71      0.73      0.72      2631\n",
      "    debt_collection       0.72      0.67      0.69      2694\n",
      "mortgages_and_loans       0.75      0.78      0.77      2710\n",
      "     retail_banking       0.75      0.77      0.76      2763\n",
      "\n",
      "           accuracy                           0.73     13435\n",
      "          macro avg       0.73      0.73      0.73     13435\n",
      "       weighted avg       0.73      0.73      0.73     13435\n",
      "\n"
     ]
    }
   ],
   "source": [
    "# Random Forest fined tune hyperparameters\n",
    "param_grid_rf = {\n",
    "    'n_estimators': [100, 200, 300],\n",
    "    'max_depth': [10, 20, 30],\n",
    "    'min_samples_split': [2, 5, 10]\n",
    "}\n",
    "\n",
    "grid_rf = GridSearchCV(RandomForestClassifier(random_state=42), param_grid_rf, refit=True, verbose=2, cv=5)\n",
    "grid_rf.fit(X_train, y_train)\n",
    "\n",
    "print(\"Best hyperparameters for Random Forest: \", grid_rf.best_params_)\n",
    "\n",
    "# Update the model with the best parameters\n",
    "best_rf_model = grid_rf.best_estimator_\n",
    "\n",
    "# Evaluate the best model found by GridSearchCV\n",
    "best_rf_report = train_evalute_model(X_train, y_train, X_test, y_test, best_rf_model)\n",
    "print(best_rf_report)\n"
   ]
  },
  {
   "cell_type": "markdown",
   "metadata": {},
   "source": [
    "#### 3) TF-IDF - XGBoost Classifier"
   ]
  },
  {
   "cell_type": "code",
   "execution_count": 54,
   "metadata": {},
   "outputs": [
    {
     "name": "stdout",
     "output_type": "stream",
     "text": [
      "XGBoost Report with TF-IDF Features:\n",
      "                     precision    recall  f1-score   support\n",
      "\n",
      "        credit_card       0.72      0.70      0.71      2637\n",
      "   credit_reporting       0.69      0.71      0.70      2631\n",
      "    debt_collection       0.70      0.67      0.68      2694\n",
      "mortgages_and_loans       0.75      0.78      0.76      2710\n",
      "     retail_banking       0.76      0.77      0.76      2763\n",
      "\n",
      "           accuracy                           0.72     13435\n",
      "          macro avg       0.72      0.72      0.72     13435\n",
      "       weighted avg       0.72      0.72      0.72     13435\n",
      "\n"
     ]
    }
   ],
   "source": [
    "# XGBoost Classifier\n",
    "xgb_model = XGBClassifier(use_label_encoder=False, eval_metric='mlogloss')\n",
    "xgb_report = train_evalute_model(X_train, y_train, X_test, y_test, xgb_model)\n",
    "print(\"XGBoost Report with TF-IDF Features:\")\n",
    "print(xgb_report)"
   ]
  },
  {
   "cell_type": "markdown",
   "metadata": {},
   "source": [
    "##### 3.1) TF-IDF - XGBoost - Hyperparameter tuning"
   ]
  },
  {
   "cell_type": "code",
   "execution_count": 79,
   "metadata": {},
   "outputs": [
    {
     "name": "stdout",
     "output_type": "stream",
     "text": [
      "Fitting 5 folds for each of 9 candidates, totalling 45 fits\n",
      "[CV] END ......................max_depth=3, n_estimators=100; total time=   0.6s\n",
      "[CV] END ......................max_depth=3, n_estimators=100; total time=   0.6s\n",
      "[CV] END ......................max_depth=3, n_estimators=100; total time=   0.5s\n",
      "[CV] END ......................max_depth=3, n_estimators=100; total time=   0.6s\n",
      "[CV] END ......................max_depth=3, n_estimators=100; total time=   0.6s\n",
      "[CV] END ......................max_depth=3, n_estimators=200; total time=   1.1s\n",
      "[CV] END ......................max_depth=3, n_estimators=200; total time=   1.1s\n",
      "[CV] END ......................max_depth=3, n_estimators=200; total time=   1.1s\n",
      "[CV] END ......................max_depth=3, n_estimators=200; total time=   1.1s\n",
      "[CV] END ......................max_depth=3, n_estimators=200; total time=   1.1s\n",
      "[CV] END ......................max_depth=3, n_estimators=300; total time=   1.6s\n",
      "[CV] END ......................max_depth=3, n_estimators=300; total time=   1.9s\n",
      "[CV] END ......................max_depth=3, n_estimators=300; total time=   2.3s\n",
      "[CV] END ......................max_depth=3, n_estimators=300; total time=   1.6s\n",
      "[CV] END ......................max_depth=3, n_estimators=300; total time=   1.5s\n",
      "[CV] END ......................max_depth=4, n_estimators=100; total time=   0.8s\n",
      "[CV] END ......................max_depth=4, n_estimators=100; total time=   0.7s\n",
      "[CV] END ......................max_depth=4, n_estimators=100; total time=   0.7s\n",
      "[CV] END ......................max_depth=4, n_estimators=100; total time=   0.7s\n",
      "[CV] END ......................max_depth=4, n_estimators=100; total time=   0.9s\n",
      "[CV] END ......................max_depth=4, n_estimators=200; total time=   1.5s\n",
      "[CV] END ......................max_depth=4, n_estimators=200; total time=   1.4s\n",
      "[CV] END ......................max_depth=4, n_estimators=200; total time=   1.6s\n",
      "[CV] END ......................max_depth=4, n_estimators=200; total time=   1.4s\n",
      "[CV] END ......................max_depth=4, n_estimators=200; total time=   1.4s\n",
      "[CV] END ......................max_depth=4, n_estimators=300; total time=   2.0s\n",
      "[CV] END ......................max_depth=4, n_estimators=300; total time=   1.9s\n",
      "[CV] END ......................max_depth=4, n_estimators=300; total time=   1.9s\n",
      "[CV] END ......................max_depth=4, n_estimators=300; total time=   1.9s\n",
      "[CV] END ......................max_depth=4, n_estimators=300; total time=   1.9s\n",
      "[CV] END ......................max_depth=5, n_estimators=100; total time=   0.8s\n",
      "[CV] END ......................max_depth=5, n_estimators=100; total time=   0.8s\n",
      "[CV] END ......................max_depth=5, n_estimators=100; total time=   0.8s\n",
      "[CV] END ......................max_depth=5, n_estimators=100; total time=   0.8s\n",
      "[CV] END ......................max_depth=5, n_estimators=100; total time=   0.8s\n",
      "[CV] END ......................max_depth=5, n_estimators=200; total time=   1.6s\n",
      "[CV] END ......................max_depth=5, n_estimators=200; total time=   1.5s\n",
      "[CV] END ......................max_depth=5, n_estimators=200; total time=   1.7s\n",
      "[CV] END ......................max_depth=5, n_estimators=200; total time=   1.6s\n",
      "[CV] END ......................max_depth=5, n_estimators=200; total time=   1.6s\n",
      "[CV] END ......................max_depth=5, n_estimators=300; total time=   2.3s\n",
      "[CV] END ......................max_depth=5, n_estimators=300; total time=   2.4s\n",
      "[CV] END ......................max_depth=5, n_estimators=300; total time=   2.4s\n",
      "[CV] END ......................max_depth=5, n_estimators=300; total time=   2.4s\n",
      "[CV] END ......................max_depth=5, n_estimators=300; total time=   2.3s\n",
      "Best hyperparameters for XGBoost:  {'max_depth': 5, 'n_estimators': 100}\n",
      "                     precision    recall  f1-score   support\n",
      "\n",
      "        credit_card       0.73      0.70      0.71      2637\n",
      "   credit_reporting       0.69      0.71      0.70      2631\n",
      "    debt_collection       0.71      0.66      0.68      2694\n",
      "mortgages_and_loans       0.75      0.78      0.76      2710\n",
      "     retail_banking       0.75      0.78      0.76      2763\n",
      "\n",
      "           accuracy                           0.72     13435\n",
      "          macro avg       0.72      0.72      0.72     13435\n",
      "       weighted avg       0.72      0.72      0.72     13435\n",
      "\n"
     ]
    }
   ],
   "source": [
    "# XGBoost Hyperparameter tuning\n",
    "param_grid_xgb = {\n",
    "    'n_estimators': [100, 200, 300],\n",
    "    'max_depth': [3, 4, 5]\n",
    "}\n",
    "\n",
    "grid_xgb = GridSearchCV(XGBClassifier(use_label_encoder=False, eval_metric='mlogloss'), param_grid_xgb, refit=True, verbose=2, cv=5)\n",
    "grid_xgb.fit(X_train, y_train)\n",
    "\n",
    "print(\"Best hyperparameters for XGBoost: \", grid_xgb.best_params_)\n",
    "\n",
    "# Update the model with the best parameters\n",
    "best_xgb_model = grid_xgb.best_estimator_\n",
    "\n",
    "# Evaluate the best model found by GridSearchCV\n",
    "best_xgb_report = train_evalute_model(X_train, y_train, X_test, y_test, best_xgb_model)\n",
    "print(best_xgb_report)"
   ]
  },
  {
   "cell_type": "markdown",
   "metadata": {},
   "source": [
    "#### 4) TF-IDF - Naive Bayes Classifier"
   ]
  },
  {
   "cell_type": "code",
   "execution_count": 55,
   "metadata": {},
   "outputs": [
    {
     "name": "stdout",
     "output_type": "stream",
     "text": [
      "Naive Bayes Report with TF-IDF Features:\n",
      "                     precision    recall  f1-score   support\n",
      "\n",
      "        credit_card       0.72      0.64      0.68      2637\n",
      "   credit_reporting       0.61      0.71      0.66      2631\n",
      "    debt_collection       0.73      0.57      0.64      2694\n",
      "mortgages_and_loans       0.71      0.78      0.74      2710\n",
      "     retail_banking       0.72      0.78      0.75      2763\n",
      "\n",
      "           accuracy                           0.70     13435\n",
      "          macro avg       0.70      0.70      0.69     13435\n",
      "       weighted avg       0.70      0.70      0.69     13435\n",
      "\n"
     ]
    }
   ],
   "source": [
    "# Naive Bayes Classifier\n",
    "nb_model = MultinomialNB()\n",
    "nb_report = train_evalute_model(X_train, y_train, X_test, y_test, nb_model)\n",
    "print(\"Naive Bayes Report with TF-IDF Features:\")\n",
    "print(nb_report)"
   ]
  },
  {
   "cell_type": "markdown",
   "metadata": {},
   "source": [
    "##### 4.1) TF-IDF - Naive Bayes - Hyperparameter tuning"
   ]
  },
  {
   "cell_type": "code",
   "execution_count": null,
   "metadata": {},
   "outputs": [],
   "source": [
    "# Naiva Bayes Hyperparameter tuning\n",
    "param_grid_nb = {\n",
    "    'alpha': [0.1, 0.5, 1.0]\n",
    "}\n",
    "\n",
    "grid_nb = GridSearchCV(MultinomialNB(), param_grid_nb, refit=True, verbose=2, cv=5)\n",
    "grid_nb.fit(X_train, y_train)\n",
    "\n",
    "print(\"Best hyperparameters for Naive Bayes: \", grid_nb.best_params_)\n",
    "# Update the model with the best parameters\n",
    "best_nb_model = grid_nb.best_estimator_\n",
    "\n",
    "# Evaluate the best model found by GridSearchCV\n",
    "best_nb_report = train_evalute_model(X_train, y_train, X_test, y_test, best_nb_model)\n",
    "print(best_nb_report)"
   ]
  },
  {
   "cell_type": "markdown",
   "metadata": {},
   "source": [
    "#### 5) TF-IDF - Support Vector Machine Classifier"
   ]
  },
  {
   "cell_type": "code",
   "execution_count": 56,
   "metadata": {},
   "outputs": [
    {
     "name": "stdout",
     "output_type": "stream",
     "text": [
      "SVM Report with TF-IDF Features:\n",
      "                     precision    recall  f1-score   support\n",
      "\n",
      "        credit_card       0.71      0.70      0.71      2637\n",
      "   credit_reporting       0.67      0.69      0.68      2631\n",
      "    debt_collection       0.70      0.63      0.67      2694\n",
      "mortgages_and_loans       0.73      0.78      0.76      2710\n",
      "     retail_banking       0.75      0.77      0.76      2763\n",
      "\n",
      "           accuracy                           0.71     13435\n",
      "          macro avg       0.71      0.71      0.71     13435\n",
      "       weighted avg       0.71      0.71      0.71     13435\n",
      "\n"
     ]
    }
   ],
   "source": [
    "svm_model = SVC()\n",
    "svm_report = train_evalute_model(X_train, y_train, X_test, y_test, svm_model)\n",
    "print(\"SVM Report with TF-IDF Features:\")\n",
    "print(svm_report)"
   ]
  },
  {
   "cell_type": "markdown",
   "metadata": {},
   "source": [
    "##### 5.1) TF-IDF - Support Vector Machine - Hyperparameter tuning"
   ]
  },
  {
   "cell_type": "code",
   "execution_count": 80,
   "metadata": {},
   "outputs": [
    {
     "name": "stdout",
     "output_type": "stream",
     "text": [
      "Fitting 5 folds for each of 6 candidates, totalling 30 fits\n",
      "[CV] END ...............................C=0.1, kernel=linear; total time=  28.8s\n",
      "[CV] END ...............................C=0.1, kernel=linear; total time=  28.6s\n",
      "[CV] END ...............................C=0.1, kernel=linear; total time=  27.9s\n",
      "[CV] END ...............................C=0.1, kernel=linear; total time=  27.6s\n",
      "[CV] END ...............................C=0.1, kernel=linear; total time=  27.7s\n",
      "[CV] END ..................................C=0.1, kernel=rbf; total time=  49.5s\n",
      "[CV] END ..................................C=0.1, kernel=rbf; total time=  51.0s\n",
      "[CV] END ..................................C=0.1, kernel=rbf; total time=  51.2s\n",
      "[CV] END ..................................C=0.1, kernel=rbf; total time=  51.2s\n",
      "[CV] END ..................................C=0.1, kernel=rbf; total time=  51.9s\n",
      "[CV] END .................................C=1, kernel=linear; total time=  28.6s\n",
      "[CV] END .................................C=1, kernel=linear; total time=  28.3s\n",
      "[CV] END .................................C=1, kernel=linear; total time=  28.6s\n",
      "[CV] END .................................C=1, kernel=linear; total time=  28.3s\n",
      "[CV] END .................................C=1, kernel=linear; total time=  28.6s\n",
      "[CV] END ....................................C=1, kernel=rbf; total time=  48.1s\n",
      "[CV] END ....................................C=1, kernel=rbf; total time=  48.1s\n",
      "[CV] END ....................................C=1, kernel=rbf; total time=  47.5s\n",
      "[CV] END ....................................C=1, kernel=rbf; total time=  47.3s\n",
      "[CV] END ....................................C=1, kernel=rbf; total time=  49.0s\n",
      "[CV] END ................................C=10, kernel=linear; total time=  36.5s\n",
      "[CV] END ................................C=10, kernel=linear; total time=  35.1s\n",
      "[CV] END ................................C=10, kernel=linear; total time=  35.5s\n",
      "[CV] END ................................C=10, kernel=linear; total time=  35.0s\n",
      "[CV] END ................................C=10, kernel=linear; total time=  34.4s\n",
      "[CV] END ...................................C=10, kernel=rbf; total time=  58.4s\n",
      "[CV] END ...................................C=10, kernel=rbf; total time= 1.0min\n",
      "[CV] END ...................................C=10, kernel=rbf; total time= 1.0min\n",
      "[CV] END ...................................C=10, kernel=rbf; total time= 1.0min\n",
      "[CV] END ...................................C=10, kernel=rbf; total time= 1.0min\n",
      "Best hyperparameters for SVM:  {'C': 10, 'kernel': 'rbf'}\n",
      "                     precision    recall  f1-score   support\n",
      "\n",
      "        credit_card       0.70      0.71      0.71      2637\n",
      "   credit_reporting       0.69      0.70      0.69      2631\n",
      "    debt_collection       0.70      0.65      0.68      2694\n",
      "mortgages_and_loans       0.75      0.77      0.76      2710\n",
      "     retail_banking       0.75      0.76      0.76      2763\n",
      "\n",
      "           accuracy                           0.72     13435\n",
      "          macro avg       0.72      0.72      0.72     13435\n",
      "       weighted avg       0.72      0.72      0.72     13435\n",
      "\n"
     ]
    }
   ],
   "source": [
    "# SVM Hyperparameter tuning\n",
    "param_grid_svm = {\n",
    "    'C': [0.1, 1, 10],\n",
    "    'kernel': ['linear', 'rbf']\n",
    "}\n",
    "\n",
    "grid_svm = GridSearchCV(SVC(), param_grid_svm, refit=True, verbose=2, cv=5)\n",
    "grid_svm.fit(X_train, y_train)\n",
    "\n",
    "print(\"Best hyperparameters for SVM: \", grid_svm.best_params_)\n",
    "# Update the model with the best parameters\n",
    "best_svm_model = grid_svm.best_estimator_\n",
    "\n",
    "# Evaluate the best model found by GridSearchCV\n",
    "best_svm_report = train_evalute_model(X_train, y_train, X_test, y_test, best_svm_model)\n",
    "print(best_svm_report)"
   ]
  },
  {
   "cell_type": "markdown",
   "metadata": {},
   "source": [
    "#### 6) Word2Vec - Logistic regression"
   ]
  },
  {
   "cell_type": "code",
   "execution_count": 17,
   "metadata": {},
   "outputs": [
    {
     "name": "stdout",
     "output_type": "stream",
     "text": [
      "Logistic Regression Report with Word2Vec Features:\n",
      "                     precision    recall  f1-score   support\n",
      "\n",
      "        credit_card       0.77      0.80      0.78      2637\n",
      "   credit_reporting       0.80      0.77      0.79      2631\n",
      "    debt_collection       0.81      0.79      0.80      2694\n",
      "mortgages_and_loans       0.85      0.86      0.85      2710\n",
      "     retail_banking       0.85      0.85      0.85      2763\n",
      "\n",
      "           accuracy                           0.82     13435\n",
      "          macro avg       0.81      0.81      0.81     13435\n",
      "       weighted avg       0.82      0.82      0.81     13435\n",
      "\n"
     ]
    }
   ],
   "source": [
    "# train lr model\n",
    "lr_model_w2v = LogisticRegression(max_iter=1000)\n",
    "lr_report_w2v = train_evalute_model(X_train_w2v, y_train_w2v, X_test_w2v, y_test_w2v, lr_model_w2v)\n",
    "print(\"Logistic Regression Report with Word2Vec Features:\")\n",
    "print(lr_report_w2v)"
   ]
  },
  {
   "cell_type": "markdown",
   "metadata": {},
   "source": [
    "##### 6.1) Word2Vec - Logistic regression - Hyperparameter tuning"
   ]
  },
  {
   "cell_type": "code",
   "execution_count": null,
   "metadata": {},
   "outputs": [],
   "source": [
    "# Define the parameter grid for Logistic Regression\n",
    "param_grid_lr = {'C': [0.1, 1, 10, 100], 'solver': ['lbfgs', 'liblinear']}\n",
    "\n",
    "# Perform GridSearchCV\n",
    "grid_lr = GridSearchCV(LogisticRegression(max_iter=1000), param_grid_lr, refit=True, verbose=2, cv=5)\n",
    "grid_lr.fit(X_train_w2v, y_train_w2v)\n",
    "\n",
    "# Print the best hyperparameters\n",
    "print(\"Best hyperparameters found: \", grid_lr.best_params_)\n",
    "\n",
    "# Update the model with the best parameters\n",
    "best_lr_model = grid_lr.best_estimator_\n",
    "\n",
    "# Evaluate the best model found by GridSearchCV\n",
    "best_lr_report = train_evalute_model(X_train_w2v, y_train_w2v, X_test_w2v, y_test_w2v, best_lr_model)\n",
    "print(best_lr_report)"
   ]
  },
  {
   "cell_type": "code",
   "execution_count": null,
   "metadata": {},
   "outputs": [],
   "source": [
    "best_lr_report = train_evalute_model(X_train_w2v, y_train_w2v, X_test_w2v, y_test_w2v, best_lr_model)\n",
    "print(\"Logistic Regression Report with Word2Vec Features and Parameter-tuning:\")\n",
    "print(best_lr_report)"
   ]
  },
  {
   "cell_type": "markdown",
   "metadata": {},
   "source": [
    "#### 7) Word2Vec - Random Forest classifier"
   ]
  },
  {
   "cell_type": "code",
   "execution_count": 22,
   "metadata": {},
   "outputs": [
    {
     "name": "stdout",
     "output_type": "stream",
     "text": [
      "Random Forest Report with Word2Vec Features:\n",
      "                     precision    recall  f1-score   support\n",
      "\n",
      "        credit_card       0.76      0.76      0.76      2637\n",
      "   credit_reporting       0.81      0.83      0.82      2631\n",
      "    debt_collection       0.83      0.79      0.81      2694\n",
      "mortgages_and_loans       0.84      0.84      0.84      2710\n",
      "     retail_banking       0.83      0.85      0.84      2763\n",
      "\n",
      "           accuracy                           0.81     13435\n",
      "          macro avg       0.81      0.81      0.81     13435\n",
      "       weighted avg       0.81      0.81      0.81     13435\n",
      "\n"
     ]
    }
   ],
   "source": [
    "# train rf model\n",
    "rf_model_w2v = RandomForestClassifier(n_estimators=100, random_state=10)\n",
    "rf_report_w2v = train_evalute_model(X_train_w2v, y_train_w2v, X_test_w2v, y_test_w2v, rf_model_w2v)\n",
    "print(\"Random Forest Report with Word2Vec Features:\")\n",
    "print(rf_report_w2v)"
   ]
  },
  {
   "cell_type": "markdown",
   "metadata": {},
   "source": [
    "##### 7.1) Word2Vec - Random Forest - Hyperparameter tuning"
   ]
  },
  {
   "cell_type": "code",
   "execution_count": null,
   "metadata": {},
   "outputs": [],
   "source": [
    "# Random Forest fined tune hyperparameters\n",
    "param_grid_rf = {\n",
    "    'n_estimators': [100, 200, 300],\n",
    "    'max_depth': [10, 20, 30],\n",
    "    'min_samples_split': [2, 5, 10]\n",
    "}\n",
    "\n",
    "grid_rf = GridSearchCV(RandomForestClassifier(random_state=42), param_grid_rf, refit=True, verbose=2, cv=5)\n",
    "grid_rf.fit(X_train_w2v, y_train_w2v)\n",
    "\n",
    "print(\"Best hyperparameters for Random Forest: \", grid_rf.best_params_)\n",
    "\n",
    "# Update the model with the best parameters\n",
    "best_rf_model = grid_rf.best_estimator_\n",
    "\n",
    "# Evaluate the best model found by GridSearchCV\n",
    "best_rf_report = train_evalute_model(X_trainw2v, y_trainw2v, X_testw2v, y_testw2v, best_rf_model)\n",
    "print(best_rf_report)"
   ]
  },
  {
   "cell_type": "markdown",
   "metadata": {},
   "source": [
    "#### 8) Word2Vec - XGBoost Classifier"
   ]
  },
  {
   "cell_type": "code",
   "execution_count": 18,
   "metadata": {},
   "outputs": [
    {
     "name": "stdout",
     "output_type": "stream",
     "text": [
      "XGBoost Report with Word2Vec Features:\n",
      "                     precision    recall  f1-score   support\n",
      "\n",
      "        credit_card       0.79      0.80      0.79      2637\n",
      "   credit_reporting       0.81      0.83      0.82      2631\n",
      "    debt_collection       0.84      0.81      0.83      2694\n",
      "mortgages_and_loans       0.87      0.85      0.86      2710\n",
      "     retail_banking       0.85      0.86      0.86      2763\n",
      "\n",
      "           accuracy                           0.83     13435\n",
      "          macro avg       0.83      0.83      0.83     13435\n",
      "       weighted avg       0.83      0.83      0.83     13435\n",
      "\n"
     ]
    }
   ],
   "source": [
    "# train xgb model\n",
    "xgb_model_w2v = XGBClassifier(use_label_encoder=False, eval_metric='mlogloss')\n",
    "xgb_report_w2v = train_evalute_model(X_train_w2v, y_train_w2v, X_test_w2v, y_test_w2v, xgb_model_w2v)\n",
    "print(\"XGBoost Report with Word2Vec Features:\")\n",
    "print(xgb_report_w2v)"
   ]
  },
  {
   "cell_type": "markdown",
   "metadata": {},
   "source": [
    "##### 8.1) Word2Vec - XGBoost - Hyperparameter tuning"
   ]
  },
  {
   "cell_type": "code",
   "execution_count": null,
   "metadata": {},
   "outputs": [],
   "source": [
    "# XGBoost Hyperparameter tuning\n",
    "param_grid_xgb = {\n",
    "    'n_estimators': [100, 200, 300],\n",
    "    'max_depth': [3, 4, 5]\n",
    "}\n",
    "\n",
    "grid_xgb = GridSearchCV(XGBClassifier(use_label_encoder=False, eval_metric='mlogloss'), param_grid_xgb, refit=True, verbose=2, cv=5)\n",
    "grid_xgb.fit(X_train_w2v, y_train_w2v)\n",
    "\n",
    "print(\"Best hyperparameters for XGBoost: \", grid_xgb.best_params_)\n",
    "\n",
    "# Update the model with the best parameters\n",
    "best_xgb_model = grid_xgb.best_estimator_\n",
    "\n",
    "# Evaluate the best model found by GridSearchCV\n",
    "best_xgb_report = train_evalute_model(X_trainw2v, y_trainw2v, X_testw2v, y_testw2v, best_xgb_model)\n",
    "print(best_xgb_report)"
   ]
  },
  {
   "cell_type": "markdown",
   "metadata": {},
   "source": [
    "#### 9) Word2Vec - Naive Bayes Classifier"
   ]
  },
  {
   "cell_type": "code",
   "execution_count": 69,
   "metadata": {},
   "outputs": [
    {
     "name": "stdout",
     "output_type": "stream",
     "text": [
      "Naive Bayes Report with Word2Vec Features:\n",
      "                     precision    recall  f1-score   support\n",
      "\n",
      "        credit_card       0.64      0.58      0.61      2637\n",
      "   credit_reporting       0.69      0.71      0.70      2631\n",
      "    debt_collection       0.72      0.57      0.64      2694\n",
      "mortgages_and_loans       0.69      0.82      0.75      2710\n",
      "     retail_banking       0.76      0.81      0.78      2763\n",
      "\n",
      "           accuracy                           0.70     13435\n",
      "          macro avg       0.70      0.70      0.70     13435\n",
      "       weighted avg       0.70      0.70      0.70     13435\n",
      "\n"
     ]
    }
   ],
   "source": [
    "### MultinomialNB cannot handle negative values\n",
    "### switch to GaussianNB\n",
    "### alternatively, we could scale the data, but not sure if that is a good idea\n",
    "from sklearn.naive_bayes import GaussianNB\n",
    "nb_model_w2v = GaussianNB()\n",
    "nb_report_w2v = train_evalute_model(X_train_w2v, y_train_w2v, X_test_w2v, y_test_w2v, nb_model_w2v)\n",
    "print(\"Naive Bayes Report with Word2Vec Features:\")\n",
    "print(nb_report_w2v)"
   ]
  },
  {
   "cell_type": "markdown",
   "metadata": {},
   "source": [
    "##### 9.1) Word2Vec - Naive Bayes - Hyperparameter tuning"
   ]
  },
  {
   "cell_type": "code",
   "execution_count": null,
   "metadata": {},
   "outputs": [],
   "source": [
    "# Naiva Bayes Hyperparameter tuning\n",
    "param_grid_nb = {\n",
    "    'alpha': [0.1, 0.5, 1.0]\n",
    "}\n",
    "\n",
    "grid_nb = GridSearchCV(MultinomialNB(), param_grid_nb, refit=True, verbose=2, cv=5)\n",
    "grid_nb.fit(X_train_w2v, y_train_w2v)\n",
    "\n",
    "print(\"Best hyperparameters for Naive Bayes: \", grid_nb.best_params_)\n",
    "# Update the model with the best parameters\n",
    "best_nb_model = grid_nb.best_estimator_\n",
    "\n",
    "# Evaluate the best model found by GridSearchCV\n",
    "best_nb_report = train_evalute_model(X_train_w2v, y_train_w2v, X_test_w2v, y_test_w2v, best_nb_model)\n",
    "print(best_nb_report)"
   ]
  },
  {
   "cell_type": "markdown",
   "metadata": {},
   "source": [
    "#### 10) Word2Vec - Support Vector Machine Classifier"
   ]
  },
  {
   "cell_type": "code",
   "execution_count": 19,
   "metadata": {},
   "outputs": [
    {
     "name": "stdout",
     "output_type": "stream",
     "text": [
      "SVM Report with Word2Vec Features:\n",
      "                     precision    recall  f1-score   support\n",
      "\n",
      "        credit_card       0.80      0.82      0.81      2637\n",
      "   credit_reporting       0.81      0.82      0.82      2631\n",
      "    debt_collection       0.84      0.82      0.83      2694\n",
      "mortgages_and_loans       0.88      0.87      0.87      2710\n",
      "     retail_banking       0.87      0.87      0.87      2763\n",
      "\n",
      "           accuracy                           0.84     13435\n",
      "          macro avg       0.84      0.84      0.84     13435\n",
      "       weighted avg       0.84      0.84      0.84     13435\n",
      "\n"
     ]
    }
   ],
   "source": [
    "# train svm model\n",
    "svm_model_w2v = SVC()\n",
    "svm_report_w2v = train_evalute_model(X_train_w2v, y_train_w2v, X_test_w2v, y_test_w2v, svm_model_w2v)\n",
    "print(\"SVM Report with Word2Vec Features:\")\n",
    "print(svm_report_w2v)"
   ]
  },
  {
   "cell_type": "markdown",
   "metadata": {},
   "source": [
    "##### 10.1) Word2Vec - SVM - Hyperparameter tuning"
   ]
  },
  {
   "cell_type": "code",
   "execution_count": null,
   "metadata": {},
   "outputs": [],
   "source": [
    "# SVM Hyperparameter tuning\n",
    "param_grid_svm = {\n",
    "    'C': [0.1, 1, 10],\n",
    "    'kernel': ['linear', 'rbf']\n",
    "}\n",
    "\n",
    "grid_svm = GridSearchCV(SVC(), param_grid_svm, refit=True, verbose=2, cv=5)\n",
    "grid_svm.fit(X_train_w2v, y_train_w2v)\n",
    "\n",
    "print(\"Best hyperparameters for SVM: \", grid_svm.best_params_)\n",
    "# Update the model with the best parameters\n",
    "best_svm_model = grid_svm.best_estimator_\n",
    "\n",
    "# Evaluate the best model found by GridSearchCV\n",
    "best_svm_report = train_evalute_model(X_trainw2v, y_trainw2v, X_testw2v, y_testw2v, best_svm_model)\n",
    "print(best_svm_report)"
   ]
  },
  {
   "cell_type": "markdown",
   "metadata": {},
   "source": [
    "### Neural Networks"
   ]
  },
  {
   "cell_type": "code",
   "execution_count": 18,
   "metadata": {},
   "outputs": [],
   "source": [
    "import torch\n",
    "import torch.nn as nn\n",
    "import torch.optim as optim\n",
    "from sklearn.metrics import classification_report\n",
    "import numpy as np"
   ]
  },
  {
   "cell_type": "markdown",
   "metadata": {},
   "source": [
    "Multilayer NN"
   ]
  },
  {
   "cell_type": "code",
   "execution_count": 31,
   "metadata": {},
   "outputs": [],
   "source": [
    "## prepare tensors: \n",
    "X_train_tensor = torch.FloatTensor(X_train_w2v.to_numpy()) \n",
    "y_train_tensor = torch.LongTensor(y_train_w2v)\n",
    "X_test_tensor = torch.FloatTensor(X_test_w2v.to_numpy())\n",
    "y_test_tensor = torch.LongTensor(y_test_w2v)"
   ]
  },
  {
   "cell_type": "code",
   "execution_count": 100,
   "metadata": {},
   "outputs": [
    {
     "name": "stdout",
     "output_type": "stream",
     "text": [
      "Neural Network Report with Word2Vec Features:\n",
      "                     precision    recall  f1-score   support\n",
      "\n",
      "        credit_card       0.83      0.80      0.81      2637\n",
      "   credit_reporting       0.80      0.84      0.82      2631\n",
      "    debt_collection       0.83      0.80      0.81      2694\n",
      "mortgages_and_loans       0.87      0.86      0.87      2710\n",
      "     retail_banking       0.86      0.88      0.87      2763\n",
      "\n",
      "           accuracy                           0.84     13435\n",
      "          macro avg       0.84      0.84      0.84     13435\n",
      "       weighted avg       0.84      0.84      0.84     13435\n",
      "\n"
     ]
    }
   ],
   "source": [
    "# Define the Neural Network model\n",
    "class NeuralNetwork(nn.Module):\n",
    "    def __init__(self):\n",
    "        super(NeuralNetwork, self).__init__()\n",
    "        self.fc1 = nn.Linear(X_train_tensor.shape[1], 128)\n",
    "        self.fc2 = nn.Linear(128, 64)\n",
    "        self.fc3 = nn.Linear(64, len(np.unique(y_train_w2v)))  # Number of classes\n",
    "\n",
    "    def forward(self, x):\n",
    "        x = torch.relu(self.fc1(x))\n",
    "        x = torch.relu(self.fc2(x))\n",
    "        x = self.fc3(x)\n",
    "        return x\n",
    "\n",
    "# Initialize the model, loss function, and optimizer\n",
    "model_nn = NeuralNetwork()\n",
    "criterion = nn.CrossEntropyLoss()  # Use for multi-class classification\n",
    "optimizer = optim.Adam(model_nn.parameters(), lr=0.001)\n",
    "\n",
    "# Training the model\n",
    "num_epochs = 1000\n",
    "for epoch in range(num_epochs):\n",
    "    model_nn.train()\n",
    "    optimizer.zero_grad()\n",
    "    outputs = model_nn(X_train_tensor)\n",
    "    loss = criterion(outputs, y_train_tensor)\n",
    "    loss.backward()\n",
    "    optimizer.step()\n",
    "\n",
    "# Evaluating the model\n",
    "model_nn.eval()\n",
    "with torch.no_grad():\n",
    "    y_pred_nn = torch.argmax(model_nn(X_test_tensor), dim=1)\n",
    "print(\"Neural Network Report with Word2Vec Features:\")\n",
    "print(classification_report(y_test_w2v, y_pred_nn.numpy(), target_names=['credit_card', 'credit_reporting', 'debt_collection', 'mortgages_and_loans', 'retail_banking']))"
   ]
  },
  {
   "cell_type": "markdown",
   "metadata": {},
   "source": [
    "### Convolutional Neural Network"
   ]
  },
  {
   "cell_type": "code",
   "execution_count": 36,
   "metadata": {},
   "outputs": [],
   "source": [
    "#TODO:\n",
    "# Quick and dirty implementation of 3 different NN models\n",
    "#- Clean up and streamline the code\n",
    "#- Figure out how to tune this :) \n",
    "\n",
    "# Add an artificial channel of 1 for CNN to work\n",
    "X_train_tensor = torch.FloatTensor(X_train_w2v.to_numpy()).unsqueeze(1)\n",
    "X_test_tensor = torch.FloatTensor(X_test_w2v.to_numpy()).unsqueeze(1)\n",
    "# Convert to tensors\n",
    "X_train_tensor_cnn = torch.FloatTensor(X_train_tensor)\n",
    "X_test_tensor_cnn = torch.FloatTensor(X_test_tensor)\n"
   ]
  },
  {
   "cell_type": "code",
   "execution_count": 102,
   "metadata": {},
   "outputs": [
    {
     "name": "stdout",
     "output_type": "stream",
     "text": [
      "Finished Training\n",
      "Test Accuracy: 81.56%\n"
     ]
    }
   ],
   "source": [
    "import torch\n",
    "import torch.nn as nn\n",
    "import torch.optim as optim\n",
    "from torch.utils.data import DataLoader, TensorDataset\n",
    "\n",
    "# Define the CNN model\n",
    "class CNNModel(nn.Module):\n",
    "    def __init__(self):\n",
    "        super(CNNModel, self).__init__()\n",
    "        \n",
    "        # 1D Convolutional layers\n",
    "        self.conv1 = nn.Conv1d(in_channels=1, out_channels=32, kernel_size=3, stride=1)\n",
    "        self.conv2 = nn.Conv1d(in_channels=32, out_channels=64, kernel_size=3, stride=1)\n",
    "        \n",
    "        # Max-pooling layer\n",
    "        self.pool = nn.MaxPool1d(kernel_size=2)\n",
    "        \n",
    "        # Calculate the flattened size for the fully connected layer\n",
    "        self.flattened_size = self._get_flattened_size(150)  # Adjusted for your sequence length\n",
    "        \n",
    "        # Fully connected layers\n",
    "        self.fc1 = nn.Linear(self.flattened_size, 128)\n",
    "        self.fc2 = nn.Linear(128, len(torch.unique(y_train_tensor)))  # Number of classes\n",
    "    \n",
    "    def _get_flattened_size(self, input_size):\n",
    "        # Create a dummy input to calculate the size after convolutions and pooling\n",
    "        x = torch.randn(1, 1, input_size)  # Shape (batch_size, channels, sequence_length)\n",
    "        x = self.pool(torch.relu(self.conv1(x)))\n",
    "        x = self.pool(torch.relu(self.conv2(x)))\n",
    "        return x.view(1, -1).size(1)\n",
    "\n",
    "    def forward(self, x):\n",
    "        x = torch.relu(self.conv1(x))\n",
    "        x = self.pool(x)\n",
    "        x = torch.relu(self.conv2(x))\n",
    "        x = self.pool(x)\n",
    "        \n",
    "        # Flatten the tensor for fully connected layers\n",
    "        x = x.view(x.size(0), -1)  # Flatten\n",
    "        \n",
    "        # Fully connected layers\n",
    "        x = torch.relu(self.fc1(x))\n",
    "        x = self.fc2(x)  # Output logits (no activation here, softmax/crossentropy later)\n",
    "        return x\n",
    "\n",
    "# Initialize the CNN model\n",
    "model_cnn = CNNModel()\n",
    "\n",
    "# Define loss function and optimizer\n",
    "criterion = nn.CrossEntropyLoss()\n",
    "optimizer = optim.Adam(model_cnn.parameters(), lr=0.001)\n",
    "\n",
    "# Create DataLoaders for batching\n",
    "train_dataset = TensorDataset(X_train_tensor_cnn, y_train_tensor)\n",
    "test_dataset = TensorDataset(X_test_tensor_cnn, y_test_tensor)\n",
    "\n",
    "# Adjust batch_size according to your system's memory\n",
    "train_loader = DataLoader(train_dataset, batch_size=64, shuffle=True)\n",
    "test_loader = DataLoader(test_dataset, batch_size=64, shuffle=False)\n",
    "\n",
    "# Training loop\n",
    "epochs = 10  # Number of epochs\n",
    "\n",
    "for epoch in range(epochs):\n",
    "    model_cnn.train()  # Set the model to training mode\n",
    "    running_loss = 0.0\n",
    "    for i, (X_batch, y_batch) in enumerate(train_loader):\n",
    "        optimizer.zero_grad()  # Clear gradients\n",
    "        outputs = model_cnn(X_batch)\n",
    "        loss = criterion(outputs, y_batch)  # Calculate loss\n",
    "        loss.backward()  # Backpropagate\n",
    "        optimizer.step()  # Update weights\n",
    "        \n",
    "        running_loss += loss.item()\n",
    "        if i % 100 == 99:    # Print every 100 mini-batches\n",
    "            #print(f'[Epoch {epoch+1}, Batch {i+1}] loss: {running_loss / 100:.4f}')\n",
    "            running_loss = 0.0\n",
    "\n",
    "print(\"Finished Training\")\n",
    "\n",
    "# Evaluate the model on test data\n",
    "model_cnn.eval()  # Set the model to evaluation mode\n",
    "\n",
    "all_preds = []\n",
    "all_labels = []\n",
    "\n",
    "with torch.no_grad():  # Disable gradient calculation for evaluation\n",
    "    for X_batch, y_batch in test_loader:\n",
    "        outputs = model_cnn(X_batch)\n",
    "        _, predicted = torch.max(outputs, 1)  # Get the predicted class index\n",
    "        \n",
    "        all_preds.extend(predicted.cpu().numpy())  # Store predictions\n",
    "        all_labels.extend(y_batch.cpu().numpy())  # Store true labels\n",
    "\n",
    "print(\"CNN Report with Word2Vec Features:\")\n",
    "print(classification_report(all_labels, all_preds, target_names=['credit_card', 'credit_reporting', 'debt_collection', 'mortgages_and_loans', 'retail_banking']))\n"
   ]
  },
  {
   "cell_type": "markdown",
   "metadata": {},
   "source": [
    "#### Recurrent NN"
   ]
  },
  {
   "cell_type": "code",
   "execution_count": 104,
   "metadata": {},
   "outputs": [],
   "source": [
    "class RNN(nn.Module):\n",
    "    def __init__(self):\n",
    "        super(RNN, self).__init__()\n",
    "        self.rnn = nn.RNN(input_size=150, hidden_size=64, batch_first=True)  # input_size matches the feature count\n",
    "        self.fc = nn.Linear(64, len(np.unique(y_train_w2v)))  # Number of classes\n",
    "\n",
    "    def forward(self, x):\n",
    "        out, _ = self.rnn(x)  # Shape: (batch_size, seq_length, hidden_size)\n",
    "        out = out[:, -1, :]    # Get the last output\n",
    "        out = self.fc(out)\n",
    "        return out"
   ]
  },
  {
   "cell_type": "code",
   "execution_count": 113,
   "metadata": {},
   "outputs": [
    {
     "name": "stdout",
     "output_type": "stream",
     "text": [
      "RNN Report with Word2Vec Features:\n",
      "                     precision    recall  f1-score   support\n",
      "\n",
      "        credit_card       0.80      0.83      0.81      2637\n",
      "   credit_reporting       0.82      0.82      0.82      2631\n",
      "    debt_collection       0.83      0.82      0.82      2694\n",
      "mortgages_and_loans       0.88      0.87      0.87      2710\n",
      "     retail_banking       0.87      0.87      0.87      2763\n",
      "\n",
      "           accuracy                           0.84     13435\n",
      "          macro avg       0.84      0.84      0.84     13435\n",
      "       weighted avg       0.84      0.84      0.84     13435\n",
      "\n"
     ]
    }
   ],
   "source": [
    "model_rnn = RNN()\n",
    "criterion = nn.CrossEntropyLoss()\n",
    "optimizer = optim.Adam(model_rnn.parameters(), lr=0.001)\n",
    "\n",
    "# Training the model\n",
    "num_epochs = 2000\n",
    "for epoch in range(num_epochs):\n",
    "    model_rnn.train()\n",
    "    optimizer.zero_grad()\n",
    "    outputs = model_rnn(X_train_tensor_cnn)  # Shape: (53740, 150, 1)\n",
    "    loss = criterion(outputs, y_train_tensor)\n",
    "    loss.backward()\n",
    "    optimizer.step()\n",
    "\n",
    "# Evaluating the model\n",
    "model_rnn.eval()\n",
    "with torch.no_grad():\n",
    "    y_pred_rnn = torch.argmax(model_rnn(X_test_tensor_cnn), dim=1)\n",
    "print(\"RNN Report with Word2Vec Features:\")\n",
    "print(classification_report(y_test_w2v, y_pred_rnn.numpy(), target_names=['credit_card', 'credit_reporting', 'debt_collection', 'mortgages_and_loans', 'retail_banking']))"
   ]
  },
  {
   "cell_type": "markdown",
   "metadata": {},
   "source": [
    "#### Bi-LSTM"
   ]
  },
  {
   "cell_type": "code",
   "execution_count": 53,
   "metadata": {},
   "outputs": [],
   "source": [
    "# Bi-LSTM Model\n",
    "class BiLSTM(nn.Module):\n",
    "    def __init__(self):\n",
    "        super(BiLSTM, self).__init__()\n",
    "        self.lstm = nn.LSTM(input_size=150, hidden_size=64, num_layers=2, batch_first=True, bidirectional=True)\n",
    "        self.fc = nn.Linear(128, len(np.unique(y_train_w2v)))  # Number of classes\n",
    "\n",
    "    def forward(self, x):\n",
    "        out, _ = self.lstm(x)\n",
    "        out = out[:, -1, :]  # Get the last output\n",
    "        out = self.fc(out)\n",
    "        return out"
   ]
  },
  {
   "cell_type": "code",
   "execution_count": 56,
   "metadata": {},
   "outputs": [
    {
     "name": "stdout",
     "output_type": "stream",
     "text": [
      "Bi-LSTM Report with Word2Vec Features:\n",
      "                     precision    recall  f1-score   support\n",
      "\n",
      "        credit_card       0.79      0.81      0.80      2637\n",
      "   credit_reporting       0.79      0.80      0.79      2631\n",
      "    debt_collection       0.82      0.80      0.81      2694\n",
      "mortgages_and_loans       0.87      0.86      0.87      2710\n",
      "     retail_banking       0.85      0.86      0.86      2763\n",
      "\n",
      "           accuracy                           0.82     13435\n",
      "          macro avg       0.82      0.82      0.82     13435\n",
      "       weighted avg       0.82      0.82      0.82     13435\n",
      "\n"
     ]
    }
   ],
   "source": [
    "model_bilstm = BiLSTM()\n",
    "criterion = nn.CrossEntropyLoss()\n",
    "optimizer = optim.Adam(model_bilstm.parameters(), lr=0.001)\n",
    "\n",
    "# Training the model\n",
    "num_epochs = 200\n",
    "for epoch in range(num_epochs):\n",
    "    model_bilstm.train()\n",
    "    optimizer.zero_grad()\n",
    "    outputs = model_bilstm(X_train_tensor_cnn)\n",
    "    loss = criterion(outputs, y_train_tensor)\n",
    "    loss.backward()\n",
    "    optimizer.step()\n",
    "\n",
    "# Evaluating the model\n",
    "model_bilstm.eval()\n",
    "with torch.no_grad():\n",
    "    y_pred_bilstm = torch.argmax(model_bilstm(X_test_tensor_cnn), dim=1)\n",
    "print(\"Bi-LSTM Report with Word2Vec Features:\")\n",
    "\n",
    "print(classification_report(y_test_w2v, y_pred_bilstm.numpy(), target_names=['credit_card', 'credit_reporting', 'debt_collection', 'mortgages_and_loans', 'retail_banking']))"
   ]
  },
  {
   "cell_type": "code",
   "execution_count": 23,
   "metadata": {},
   "outputs": [
    {
     "data": {
      "text/plain": [
       "['models/rf_model.pkl']"
      ]
     },
     "execution_count": 23,
     "metadata": {},
     "output_type": "execute_result"
    }
   ],
   "source": [
    "# Save 3 models\n",
    "# Check if models directory exists\n",
    "if not os.path.exists('models'):\n",
    "    os.makedirs('models')\n",
    "# Logistic Regression with Word2Vec\n",
    "joblib.dump(lr_model_w2v, 'models/lr_model.pkl')\n",
    "# SVM with Word2Vec\n",
    "joblib.dump(svm_model_w2v, 'models/svm_model.pkl')\n",
    "# RF with Word2Vec\n",
    "joblib.dump(rf_model_w2v, 'models/rf_model.pkl')"
   ]
  }
 ],
 "metadata": {
  "kernelspec": {
   "display_name": "nlp_env",
   "language": "python",
   "name": "python3"
  },
  "language_info": {
   "codemirror_mode": {
    "name": "ipython",
    "version": 3
   },
   "file_extension": ".py",
   "mimetype": "text/x-python",
   "name": "python",
   "nbconvert_exporter": "python",
   "pygments_lexer": "ipython3",
   "version": "3.12.0"
  }
 },
 "nbformat": 4,
 "nbformat_minor": 4
}
