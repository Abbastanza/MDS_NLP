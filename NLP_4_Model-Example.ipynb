{
 "cells": [
  {
   "cell_type": "markdown",
   "metadata": {},
   "source": [
    "## Testing the models"
   ]
  },
  {
   "cell_type": "code",
   "execution_count": 5,
   "metadata": {},
   "outputs": [],
   "source": [
    "import gensim\n",
    "import numpy as np\n",
    "import joblib\n",
    "import os"
   ]
  },
  {
   "cell_type": "code",
   "execution_count": 22,
   "metadata": {},
   "outputs": [],
   "source": [
    "def load_word2vec_model(word2vec_path):\n",
    "    return gensim.models.Word2Vec.load(word2vec_path)\n",
    "\n",
    "def text_to_vector(text, word2vec_model):\n",
    "    words = text.split()\n",
    "    word_vectors = [word2vec_model.wv[word] for word in words if word in word2vec_model.wv]\n",
    "    if len(word_vectors) == 0:\n",
    "        return np.zeros(word2vec_model.vector_size)\n",
    "    return np.mean(word_vectors, axis=0)\n",
    "\n",
    "def load_model(model_path):\n",
    "    return joblib.load(model_path)\n",
    "\n",
    "def main(input_text):\n",
    "    # Paths to the models\n",
    "    word2vec_path = \"narrative_word2vec.model\"\n",
    "    models_directory = \"models\"\n",
    "    model_files = [\"lr_model.pkl\", \"svm_model.pkl\", \"rf_model.pkl\"]\n",
    "    \n",
    "    # Load Word2Vec model\n",
    "    word2vec_model = load_word2vec_model(word2vec_path)\n",
    "    \n",
    "    # Generate vector representation for input text\n",
    "    text_vector = text_to_vector(input_text, word2vec_model)\n",
    "    \n",
    "    # Load the classification models and make predictions\n",
    "    predictions = {}\n",
    "    for model_file in model_files:\n",
    "        model_path = os.path.join(models_directory, model_file)\n",
    "        model = load_model(model_path)\n",
    "        prediction = model.predict([text_vector])\n",
    "        predictions[model_file] = prediction[0]\n",
    "    \n",
    "    # Print out predictions\n",
    "    outcome_mapping = {\n",
    "        0: \"credit_card\",\n",
    "        1: \"credit_reporting\",\n",
    "        2: \"debt_collection\",\n",
    "        3: \"mortgages_and_loans\",\n",
    "        4: \"retail_banking\"\n",
    "    }\n",
    "    for model_name, pred in predictions.items():\n",
    "        print(f\"Prediction from {model_name}: {outcome_mapping[pred]}\")"
   ]
  },
  {
   "cell_type": "code",
   "execution_count": 24,
   "metadata": {},
   "outputs": [
    {
     "name": "stdout",
     "output_type": "stream",
     "text": [
      "Prediction from lr_model.pkl: retail_banking\n",
      "Prediction from svm_model.pkl: retail_banking\n",
      "Prediction from rf_model.pkl: retail_banking\n"
     ]
    }
   ],
   "source": [
    "# Example input text - Retail Banking\n",
    "input_text1 = \"\"\"I've had a checking account with your bank for over five years, and I've generally been satisfied with the service. \n",
    "However, last month I noticed several fees being charged that I never agreed to, and when I reached out to customer service, \n",
    "they just redirected me to multiple departments. I'm still waiting for a proper explanation of why these charges appeared, and frankly, \n",
    "I’m considering closing my account if this doesn’t get resolved soon. I expect more transparency from my bank.\"\"\"\n",
    "main(input_text1)"
   ]
  },
  {
   "cell_type": "code",
   "execution_count": 25,
   "metadata": {},
   "outputs": [
    {
     "name": "stdout",
     "output_type": "stream",
     "text": [
      "Prediction from lr_model.pkl: credit_card\n",
      "Prediction from svm_model.pkl: credit_card\n",
      "Prediction from rf_model.pkl: credit_card\n"
     ]
    }
   ],
   "source": [
    "# Example input text - Credit Card\n",
    "input_text2 = \"\"\"I always pay my bills on time and keep my balance low, so I was shocked to see an interest charge on my last statement. \n",
    "I reviewed my payment history, and everything seems to be in order, so I can't figure out why this happened. I called your support line, but I didn’t get a clear answer. \n",
    "On top of that, I’ve had issues with unauthorized charges appearing on my card, and it’s been such a hassle to get those disputes resolved. \n",
    "I need these issues sorted out as soon as possible.\"\"\"\n",
    "main(input_text2)"
   ]
  },
  {
   "cell_type": "code",
   "execution_count": 26,
   "metadata": {},
   "outputs": [
    {
     "name": "stdout",
     "output_type": "stream",
     "text": [
      "Prediction from lr_model.pkl: debt_collection\n",
      "Prediction from svm_model.pkl: debt_collection\n",
      "Prediction from rf_model.pkl: debt_collection\n"
     ]
    }
   ],
   "source": [
    "# Example input text - Debt Collection\n",
    "input_text3 = \"\"\"I’ve been getting calls nonstop from your collections department regarding a debt I supposedly owe. \n",
    "I’ve already settled this account months ago, and I have the proof. Despite sending the documentation multiple times, \n",
    "the calls and letters haven't stopped. It's stressful, and this harassment is unacceptable, especially when the error \n",
    "is on your end. I need you to clear this up immediately, or I will escalate the matter further.\"\"\"\n",
    "main(input_text3)"
   ]
  },
  {
   "cell_type": "code",
   "execution_count": null,
   "metadata": {},
   "outputs": [],
   "source": []
  }
 ],
 "metadata": {
  "kernelspec": {
   "display_name": "nlp_env",
   "language": "python",
   "name": "python3"
  },
  "language_info": {
   "codemirror_mode": {
    "name": "ipython",
    "version": 3
   },
   "file_extension": ".py",
   "mimetype": "text/x-python",
   "name": "python",
   "nbconvert_exporter": "python",
   "pygments_lexer": "ipython3",
   "version": "3.12.0"
  }
 },
 "nbformat": 4,
 "nbformat_minor": 2
}
